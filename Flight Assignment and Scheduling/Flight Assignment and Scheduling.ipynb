{
  "cells": [
    {
      "cell_type": "markdown",
      "metadata": {
        "id": "HU-Mt3psbxMu"
      },
      "source": [
        "# Airline Scheduling and Routing\n",
        "### ME 308 -Industrial Engineering and Operations Research\n",
        "### Department of Mechanical Engineering, IIT Bombay\n",
        "### Group 29\n",
        "\n",
        "1.   Airline Scheduling and Routing handled as seperate problems \n",
        "https://colab.research.google.com/drive/1oKW-dqlY_jiFLH_QF-ERDAKYki_t16Dy \n",
        "\n",
        "2.   Airline Scheduling and Routing using self designed constraints\n",
        "https://github.com/namritaansh02/Airline-Scheduling-Routing\n",
        "\n",
        "3.   Real Time Flight Handling\n",
        "https://github.com/namritaansh02/Airline-Scheduling-Routing"
      ],
      "id": "HU-Mt3psbxMu"
    },
    {
      "cell_type": "markdown",
      "metadata": {
        "id": "clYkNDeGztIV"
      },
      "source": [
        "# ME308 PROJECT: AIRPLANE SCHEDULING AND COST MINIMIZATION"
      ],
      "id": "clYkNDeGztIV"
    },
    {
      "cell_type": "markdown",
      "metadata": {
        "id": "yZVhB7FZwS0s"
      },
      "source": [
        "Given a set of routes pq on which there exists an average daily traffic Ppq which must be carried by limited numbers of different types of aircraft, find the least cost assignment of aircraft to routes such that a minimum frequency of daily service on each route is satisfied, and such that aircraft movements balance at every station while not exceeding a daily allowable maximum imposed\n",
        "by airport congestion."
      ],
      "id": "yZVhB7FZwS0s"
    },
    {
      "cell_type": "markdown",
      "metadata": {
        "id": "tsIRbFj7zlzh"
      },
      "source": [
        "### Declaring all variables"
      ],
      "id": "tsIRbFj7zlzh"
    },
    {
      "cell_type": "code",
      "execution_count": null,
      "metadata": {
        "id": "a8c461d7"
      },
      "outputs": [],
      "source": [
        "import numpy\n",
        "\n",
        "#Adjustable parameters\n",
        "cities = 10  # no of cities being catered\n",
        "\n",
        "# The load factor is a metric used in the airline industry that measures the percentage of available seating capacity that has been filled with passengers\n",
        "LF_pq = numpy.zeros((cities, cities))\n",
        "# estimated average for daily traffic from p to q\n",
        "P_pq = numpy.zeros((cities, cities))\n",
        "# an appropriate direct operating cost for an aircraft a on route pq\n",
        "DC_pq = numpy.zeros((cities, cities))\n",
        "# Stores distance between 2 airports p and q\n",
        "d_pq = numpy.zeros((cities, cities))\n",
        "# stores seating capacity for a given aircraft\n",
        "S = 180\n",
        "# estimated average for daily traffic from p to q\n",
        "P_pq = numpy.zeros((cities, cities))\n",
        "# block hours for aircraft a to fly route pq\n",
        "# Block time includes the time to taxi-out to the runway, the actual flight duration and the time to taxi to the arrival gate, but the published schedule for the flight doesn't break these elements apart.\n",
        "Tb_pq = numpy.zeros((cities, cities))\n",
        "# assumed average daily utilization for fleet a [in hours] - depends on stage length as well (the amount of time plane has flown)\n",
        "U = 10\n",
        "# number of aircrafts\n",
        "A = 1000\n",
        "# a specified minimum level of service should be maintained on each route\n",
        "Nmin_pq = numpy.zeros((cities, cities))\n",
        "# maximum number of daily departures allowed at station p\n",
        "N_maxp = numpy.zeros(cities)"
      ],
      "id": "a8c461d7"
    },
    {
      "cell_type": "markdown",
      "metadata": {
        "id": "wyFke645z7tw"
      },
      "source": [
        "### Initialization of variables"
      ],
      "id": "wyFke645z7tw"
    },
    {
      "cell_type": "markdown",
      "metadata": {
        "id": "OUaa5LIn0vGC"
      },
      "source": [
        "Some information before code\n",
        "We take three cities for testing - Mumbai, Delhi, Lucknow <br>\n",
        "Distance(Mumbai->Delhi) = 1137Km <br>\n",
        "Distance(Delhi->Lucknow) = 553Km <br>\n",
        "Distance(Mumbai->Lucknow) = 1378km <br>\n",
        "<br>\n",
        "Seating capacity of plane is equal to 180 <br><br>\n",
        "Since Delhi and Lucknow are close to each other people also prefer superfast trains as compared to flight since it takes same time. So load factor for Delhi to Lucknow might be low.<br>\n",
        "But in our case we assume constant load factor = 1<br>\n",
        "Average daily traffic from one city to other is taken as 1000 for Mumbai to Delhi, 400 for Delhi to Lucknow and 700 for Mumbai to Lucknow<br><br>\n",
        "One major assumption is aircrafts fly at same velocity throughout the journey and velocity of aircraft is ~900km/hr <br>\n",
        "Fuel cost = INR 40 per litre (assuming full seats) # is not valid when LF<1 though <br>\n",
        "Fuel consumption = 4.18 L/km (Data for A320) <br>\n",
        "DC = fuel consumption * distance * fuel cost <br>\n",
        "<br>\n",
        "Block time = distance/velocity + 1hr<br><br>\n",
        "Assumed average utilisation is 8hrs\n",
        "<br><br>\n",
        "Minimum level of service = 1\n",
        "<br>\n",
        "Maximum level of service = 900 for Mumbai, 800 for Delhi and 100 for Lucknow\n",
        "<br>\n",
        "No of aircrafts = 1000\n",
        "\n"
      ],
      "id": "OUaa5LIn0vGC"
    },
    {
      "cell_type": "code",
      "execution_count": null,
      "metadata": {
        "id": "oMXNonPsQCMj"
      },
      "outputs": [],
      "source": [
        "# Function to calculate distance given latitudes and longitudes\n",
        "import numpy as np\n",
        "def gcd(coord1, coord2):\n",
        "    c1 = np.deg2rad(coord1) # phi lambda\n",
        "    c2 = np.deg2rad(coord2)\n",
        "    \n",
        "    p1 = c1[0]\n",
        "    p2 = c2[0]\n",
        "    dl = c1[1] - c2[1]\n",
        "    \n",
        "    a1 = np.cos(p2) * np.sin(dl)\n",
        "    a2 = np.cos(p1) * np.sin(p2) - np.sin(p1) * np.cos(p2) * np.cos(dl)\n",
        "    a3 = np.sin(p1) * np.sin(p2) + np.cos(p1) * np.cos(p2) * np.cos(dl)\n",
        "    dsigma = np.arctan2(np.sqrt(a1**2 + a2**2), a3)\n",
        "    \n",
        "    return 6371 * dsigma"
      ],
      "id": "oMXNonPsQCMj"
    },
    {
      "cell_type": "code",
      "execution_count": null,
      "metadata": {
        "colab": {
          "base_uri": "https://localhost:8080/"
        },
        "id": "gP4UBW4WQIoA",
        "outputId": "73aeda62-121e-4062-fa76-b233bc89c717"
      },
      "outputs": [
        {
          "name": "stdout",
          "output_type": "stream",
          "text": [
            "[[   0.         1149.44132582 1195.2125347   620.13039223  440.73615995\n",
            "   845.7132169   120.10180256 1651.58084796 1033.49264812  923.84597547]\n",
            " [1149.44132582    0.          432.54634875 1265.93694988  772.08077866\n",
            "  1747.63593506 1176.01603947 1318.9274931  1765.66164478  228.91810895]\n",
            " [1195.2125347   432.54634875    0.         1084.98012845  944.43296995\n",
            "  1582.41699302 1177.4090507   886.59062151 1532.48976376  504.17178599]\n",
            " [ 620.13039223 1265.93694988 1084.98012845    0.          879.47350732\n",
            "   497.70633853  504.36559185 1180.75522585  514.35399983 1095.04120423]\n",
            " [ 440.73615995  772.08077866  944.43296995  879.47350732    0.\n",
            "  1237.72947989  518.75054841 1615.58712906 1372.2189404   544.48343633]\n",
            " [ 845.7132169  1747.63593506 1582.41699302  497.70633853 1237.72947989\n",
            "     0.          735.59155512 1556.24146884  290.27769171 1561.26388147]\n",
            " [ 120.10180256 1176.01603947 1177.4090507   504.36559185  518.75054841\n",
            "   735.59155512    0.         1572.10053791  914.77923195  956.17382357]\n",
            " [1651.58084796 1318.9274931   886.59062151 1180.75522585 1615.58712906\n",
            "  1556.24146884 1572.10053791    0.         1353.68763731 1349.38709583]\n",
            " [1033.49264812 1765.66164478 1532.48976376  514.35399983 1372.2189404\n",
            "   290.27769171  914.77923195 1353.68763731    0.         1605.32241794]\n",
            " [ 923.84597547  228.91810895  504.17178599 1095.04120423  544.48343633\n",
            "  1561.26388147  956.17382357 1349.38709583 1605.32241794    0.        ]]\n",
            "(10, 10)\n"
          ]
        }
      ],
      "source": [
        "stations = ['Mumbai', 'Delhi', 'Lucknow', 'Hyderabad', 'Ahmedabad', 'Banglore', 'Pune', 'Kolkata', 'Chennai', 'Jaipur']\n",
        "coords = [(19.076090, 72.877426), (28.679079, 77.069710), (26.850000, 80.949997),\n",
        "         (17.3667, 78.4667), (23.0300, 72.5800), (12.9699, 77.5980),\n",
        "         (18.5196, 73.8553), (22.5411, 88.3378), (13.0825, 80.2750),\n",
        "         (26.9167, 75.8667)]\n",
        "nstations = len(stations)\n",
        "distance = numpy.zeros((nstations, nstations))\n",
        "for origin in stations:\n",
        "    s = stations.index(origin)\n",
        "    for destination in stations:\n",
        "        e = stations.index(destination)\n",
        "        distance[s, e] = gcd(coords[s], coords[e])\n",
        "print(distance)\n",
        "print(distance.shape)"
      ],
      "id": "gP4UBW4WQIoA"
    },
    {
      "cell_type": "code",
      "execution_count": null,
      "metadata": {
        "colab": {
          "base_uri": "https://localhost:8080/"
        },
        "id": "9lw-NJpPTZaY",
        "outputId": "161ed954-9cc3-4a64-ccae-962b1edc9243"
      },
      "outputs": [
        {
          "name": "stdout",
          "output_type": "stream",
          "text": [
            "[[   0. 1799.  999. 1499. 1499. 2000.  499. 1800. 1999. 1499.]\n",
            " [1800.    0.  899. 1350. 1349. 1799.  449. 1619. 1799. 1350.]\n",
            " [1000.  900.    0.  750.  749. 1000.  249.  899.  999.  750.]\n",
            " [1500. 1349.  750.    0. 1125. 1500.  374. 1349. 1499. 1124.]\n",
            " [1499. 1349.  750. 1124.    0. 1500.  375. 1349. 1499. 1124.]\n",
            " [2000. 1800.  999. 1499. 1499.    0.  500. 1800. 1999. 1499.]\n",
            " [ 499.  450.  250.  374.  375.  500.    0.  449.  499.  374.]\n",
            " [1799. 1620.  900. 1349. 1349. 1800.  449.    0. 1799. 1349.]\n",
            " [1999. 1799. 1000. 1499. 1500. 1999.  500. 1799.    0. 1500.]\n",
            " [1500. 1350.  749. 1124. 1125. 1500.  375. 1349. 1500.    0.]]\n"
          ]
        }
      ],
      "source": [
        "# Generation of demand matrix\n",
        "import math\n",
        "weights = [2, 1.8, 1, 1.5, 1.5, 2, 0.5, 1.8, 2, 1.5] #denotes how busy an airport is\n",
        "mu, sigma = 500, 0.1\n",
        "s = np.random.normal(mu, sigma, cities*cities)\n",
        "s = s.reshape(cities, cities)\n",
        "demand = numpy.zeros((cities, cities))\n",
        "for i in range(cities):\n",
        "  for j in range(cities):\n",
        "    demand[i][j] = math.floor(weights[i]*weights[j]*s[i][j])\n",
        "    if i==j:\n",
        "      demand[i][j] = 0\n",
        "print(demand)"
      ],
      "id": "9lw-NJpPTZaY"
    },
    {
      "cell_type": "code",
      "execution_count": null,
      "metadata": {
        "colab": {
          "base_uri": "https://localhost:8080/"
        },
        "id": "hMmZgmeSz_EV",
        "outputId": "1bdb3a30-8f4b-4af7-b16d-e7c5695c2ff5"
      },
      "outputs": [
        {
          "name": "stdout",
          "output_type": "stream",
          "text": [
            "[199, 180, 100, 149, 149, 199, 50, 179, 199, 150]\n"
          ]
        }
      ],
      "source": [
        "import numpy as np\n",
        "# The order is Mumbai, Delhi, Lucknow in each case\n",
        "LF_pq = np.array(np.ones((cities, cities)))\n",
        "fuel_cost = 40\n",
        "fuel_consumption = 4.18\n",
        "# d_pq = numpy.array([\n",
        "#     [0, 1137, 1378],\n",
        "#     [1137, 0, 553],\n",
        "#     [1378, 553, 0]\n",
        "# ])\n",
        "d_pq = np.array(distance)\n",
        "DC_pq = np.array(np.dot(d_pq, fuel_cost*fuel_consumption))\n",
        "S = 180\n",
        "# P_pq = np.array([\n",
        "#     [0, 1000, 700],\n",
        "#     [1000, 0, 400],\n",
        "#     [700, 400, 0]\n",
        "# ]) # assume symmetric demand as of now\n",
        "P_pq = np.array(demand)\n",
        "Tb_pq = d_pq/900+1 #addition of 1 is for gate closing and onboarding time\n",
        "for i in range(cities):\n",
        "  Tb_pq[i][i] = 0 #since no flight is between them\n",
        "U = 12\n",
        "A = 1000\n",
        "Nmin_pq = np.array(np.ones((cities, cities)))\n",
        "for i in range(cities):\n",
        "  Nmin_pq[i][i] = 0 #no flights to same airport\n",
        "# Nmax_p = np.array([900, 800, 100])\n",
        "Nmax_p = [math.floor(np.random.normal(100, 0.1)*weights[i]) for i in range(cities)]\n",
        "print(Nmax_p)"
      ],
      "id": "hMmZgmeSz_EV"
    },
    {
      "cell_type": "markdown",
      "metadata": {
        "id": "BiytjFfWCh0I"
      },
      "source": [
        "### Initialising pulp and creating decision variable"
      ],
      "id": "BiytjFfWCh0I"
    },
    {
      "cell_type": "code",
      "execution_count": null,
      "metadata": {
        "colab": {
          "base_uri": "https://localhost:8080/"
        },
        "id": "ZuRnVLwvCm2g",
        "outputId": "cb978c8c-ecb1-4d1f-f1c7-d899e0a5f406"
      },
      "outputs": [
        {
          "name": "stdout",
          "output_type": "stream",
          "text": [
            "Looking in indexes: https://pypi.org/simple, https://us-python.pkg.dev/colab-wheels/public/simple/\n",
            "Collecting pulp\n",
            "  Downloading PuLP-2.7.0-py3-none-any.whl (14.3 MB)\n",
            "\u001b[2K     \u001b[90m━━━━━━━━━━━━━━━━━━━━━━━━━━━━━━━━━━━━━━━━\u001b[0m \u001b[32m14.3/14.3 MB\u001b[0m \u001b[31m49.7 MB/s\u001b[0m eta \u001b[36m0:00:00\u001b[0m\n",
            "\u001b[?25hInstalling collected packages: pulp\n",
            "Successfully installed pulp-2.7.0\n"
          ]
        }
      ],
      "source": [
        "pip install pulp"
      ],
      "id": "ZuRnVLwvCm2g"
    },
    {
      "cell_type": "code",
      "execution_count": null,
      "metadata": {
        "colab": {
          "base_uri": "https://localhost:8080/"
        },
        "id": "vMyYHrypCqbZ",
        "outputId": "7dff8118-0583-4024-dca6-0d33ff9ebe53"
      },
      "outputs": [
        {
          "name": "stdout",
          "output_type": "stream",
          "text": [
            "{0: {0: n_0_0, 1: n_0_1, 2: n_0_2, 3: n_0_3, 4: n_0_4, 5: n_0_5, 6: n_0_6, 7: n_0_7, 8: n_0_8, 9: n_0_9}, 1: {0: n_1_0, 1: n_1_1, 2: n_1_2, 3: n_1_3, 4: n_1_4, 5: n_1_5, 6: n_1_6, 7: n_1_7, 8: n_1_8, 9: n_1_9}, 2: {0: n_2_0, 1: n_2_1, 2: n_2_2, 3: n_2_3, 4: n_2_4, 5: n_2_5, 6: n_2_6, 7: n_2_7, 8: n_2_8, 9: n_2_9}, 3: {0: n_3_0, 1: n_3_1, 2: n_3_2, 3: n_3_3, 4: n_3_4, 5: n_3_5, 6: n_3_6, 7: n_3_7, 8: n_3_8, 9: n_3_9}, 4: {0: n_4_0, 1: n_4_1, 2: n_4_2, 3: n_4_3, 4: n_4_4, 5: n_4_5, 6: n_4_6, 7: n_4_7, 8: n_4_8, 9: n_4_9}, 5: {0: n_5_0, 1: n_5_1, 2: n_5_2, 3: n_5_3, 4: n_5_4, 5: n_5_5, 6: n_5_6, 7: n_5_7, 8: n_5_8, 9: n_5_9}, 6: {0: n_6_0, 1: n_6_1, 2: n_6_2, 3: n_6_3, 4: n_6_4, 5: n_6_5, 6: n_6_6, 7: n_6_7, 8: n_6_8, 9: n_6_9}, 7: {0: n_7_0, 1: n_7_1, 2: n_7_2, 3: n_7_3, 4: n_7_4, 5: n_7_5, 6: n_7_6, 7: n_7_7, 8: n_7_8, 9: n_7_9}, 8: {0: n_8_0, 1: n_8_1, 2: n_8_2, 3: n_8_3, 4: n_8_4, 5: n_8_5, 6: n_8_6, 7: n_8_7, 8: n_8_8, 9: n_8_9}, 9: {0: n_9_0, 1: n_9_1, 2: n_9_2, 3: n_9_3, 4: n_9_4, 5: n_9_5, 6: n_9_6, 7: n_9_7, 8: n_9_8, 9: n_9_9}}\n"
          ]
        }
      ],
      "source": [
        "from pulp import *\n",
        "# decision variable\n",
        "n_pq = LpVariable.dicts(\"n\", (range(cities), range(cities)), cat=\"Integer\")\n",
        "print(n_pq)"
      ],
      "id": "vMyYHrypCqbZ"
    },
    {
      "cell_type": "markdown",
      "metadata": {
        "id": "2kzzNbC6DCs5"
      },
      "source": [
        "## Optimization problem\n",
        "Minimize operating cost for fixed revenue $$\\sum_{pq}DC_{pq}n_{pq}$$\n",
        "The model is of LP minimization type with the following constraints<br>\n",
        "1. Demand on all routes must be carried (Load factor is 1)\n",
        "$$\\sum S n_{pq} \\ge P_{pq} \\forall pq$$\n",
        "2. Fleet availability must not be exceeded\n",
        "$$\\sum_{pq} Tb_{pq}n_{pq} \\le UA$$\n",
        "3. Aircraft movements must balance over the day at every station\n",
        "$$\\sum_{q}n_{pq} = \\sum_{q}n_{qp}$$\n",
        "4. Minimum daily frequency must be maintained on each route\n",
        "$$\\sum n_{pq} \\ge Nmin_{pq}$$\n",
        "5. Maximum daily departures at a station are limited due to airport capacity\n",
        "$$\\sum_{q}n_{pq} \\le Nmax_{p}$$"
      ],
      "id": "2kzzNbC6DCs5"
    },
    {
      "cell_type": "code",
      "execution_count": null,
      "metadata": {
        "colab": {
          "base_uri": "https://localhost:8080/"
        },
        "id": "WoeCbJArFe3E",
        "outputId": "35982fa5-9978-4876-bd93-4eba85db2f3e"
      },
      "outputs": [
        {
          "name": "stdout",
          "output_type": "stream",
          "text": [
            "Airline_Cost_Minimizer:\n",
            "MINIMIZE\n",
            "192186.58967675103*n_0_1 + 199839.5358021665*n_0_2 + 103685.80158140212*n_0_3 + 73691.08594443885*n_0_4 + 141403.24986651022*n_0_5 + 20081.02138739159*n_0_6 + 276144.31777851086*n_0_7 + 172799.970765404*n_0_8 + 154467.04709895852*n_0_9 + 192186.58967675111*n_1_0 + 72321.74951069152*n_1_2 + 211664.65802076107*n_1_3 + 129091.9061916828*n_1_4 + 292204.7283413454*n_1_5 + 196629.88179881178*n_1_6 + 220524.67684653634*n_1_7 + 295218.6270079358*n_1_8 + 38275.10781579152*n_1_9 + 199839.5358021664*n_2_0 + 72321.7495106915*n_2_1 + 181408.6774769275*n_2_3 + 157909.1925751968*n_2_4 + 264580.1212336259*n_2_5 + 196862.79327679597*n_2_6 + 148237.95191688443*n_2_7 + 256232.28850064892*n_2_8 + 84297.52261738073*n_2_9 + 103685.80158140213*n_3_0 + 211664.65802076107*n_3_1 + 181408.67747692752*n_3_2 + 147047.97042407075*n_3_4 + 83216.49980147908*n_3_5 + 84329.92695813227*n_3_6 + 197422.27376162633*n_3_7 + 85999.98877223607*n_3_8 + 183090.88934675287*n_3_9 + 73691.08594443882*n_4_0 + 129091.90619168285*n_4_1 + 157909.1925751968*n_4_2 + 147047.97042407075*n_4_3 + 206948.36903797873*n_4_5 + 86735.09169490925*n_4_6 + 270126.1679782699*n_4_7 + 229435.0068344928*n_4_8 + 91037.63055398181*n_4_9 + 141403.2498665102*n_5_0 + 292204.7283413454*n_5_1 + 264580.1212336259*n_5_2 + 83216.49980147905*n_5_3 + 206948.36903797873*n_5_4 + 122990.90801537137*n_5_6 + 260203.5735897457*n_5_7 + 48534.43005355676*n_5_8 + 261043.32098223208*n_5_9 + 20081.021387391596*n_6_0 + 196629.88179881175*n_6_1 + 196862.79327679594*n_6_2 + 84329.9269581323*n_6_3 + 86735.09169490925*n_6_4 + 122990.90801537137*n_6_5 + 262855.20993840136*n_6_7 + 152951.08758219195*n_6_8 + 159872.26330115812*n_6_9 + 276144.3177785109*n_7_0 + 220524.67684653637*n_7_1 + 148237.9519168844*n_7_2 + 197422.27376162633*n_7_3 + 270126.1679782699*n_7_4 + 260203.5735897457*n_7_5 + 262855.2099384013*n_7_6 + 226336.57295742008*n_7_8 + 225617.52242197504*n_7_9 + 172799.970765404*n_8_0 + 295218.6270079357*n_8_1 + 256232.28850064892*n_8_2 + 85999.98877223604*n_8_3 + 229435.0068344928*n_8_4 + 48534.43005355676*n_8_5 + 152951.08758219195*n_8_6 + 226336.5729574201*n_8_7 + 268409.9082798047*n_8_9 + 154467.0470989585*n_9_0 + 38275.10781579149*n_9_1 + 84297.52261738073*n_9_2 + 183090.88934675284*n_9_3 + 91037.6305539818*n_9_4 + 261043.32098223208*n_9_5 + 159872.26330115812*n_9_6 + 225617.52242197504*n_9_7 + 268409.90827980463*n_9_8 + 0.0\n",
            "SUBJECT TO\n",
            "_C1: 180 n_0_0 >= 0\n",
            "\n",
            "_C2: n_0_0 >= 0\n",
            "\n",
            "_C3: 180 n_0_1 >= 1799\n",
            "\n",
            "_C4: n_0_1 >= 1\n",
            "\n",
            "_C5: 180 n_0_2 >= 999\n",
            "\n",
            "_C6: n_0_2 >= 1\n",
            "\n",
            "_C7: 180 n_0_3 >= 1499\n",
            "\n",
            "_C8: n_0_3 >= 1\n",
            "\n",
            "_C9: 180 n_0_4 >= 1499\n",
            "\n",
            "_C10: n_0_4 >= 1\n",
            "\n",
            "_C11: 180 n_0_5 >= 2000\n",
            "\n",
            "_C12: n_0_5 >= 1\n",
            "\n",
            "_C13: 180 n_0_6 >= 499\n",
            "\n",
            "_C14: n_0_6 >= 1\n",
            "\n",
            "_C15: 180 n_0_7 >= 1800\n",
            "\n",
            "_C16: n_0_7 >= 1\n",
            "\n",
            "_C17: 180 n_0_8 >= 1999\n",
            "\n",
            "_C18: n_0_8 >= 1\n",
            "\n",
            "_C19: 180 n_0_9 >= 1499\n",
            "\n",
            "_C20: n_0_9 >= 1\n",
            "\n",
            "_C21: 180 n_1_0 >= 1800\n",
            "\n",
            "_C22: n_1_0 >= 1\n",
            "\n",
            "_C23: 180 n_1_1 >= 0\n",
            "\n",
            "_C24: n_1_1 >= 0\n",
            "\n",
            "_C25: 180 n_1_2 >= 899\n",
            "\n",
            "_C26: n_1_2 >= 1\n",
            "\n",
            "_C27: 180 n_1_3 >= 1350\n",
            "\n",
            "_C28: n_1_3 >= 1\n",
            "\n",
            "_C29: 180 n_1_4 >= 1349\n",
            "\n",
            "_C30: n_1_4 >= 1\n",
            "\n",
            "_C31: 180 n_1_5 >= 1799\n",
            "\n",
            "_C32: n_1_5 >= 1\n",
            "\n",
            "_C33: 180 n_1_6 >= 449\n",
            "\n",
            "_C34: n_1_6 >= 1\n",
            "\n",
            "_C35: 180 n_1_7 >= 1619\n",
            "\n",
            "_C36: n_1_7 >= 1\n",
            "\n",
            "_C37: 180 n_1_8 >= 1799\n",
            "\n",
            "_C38: n_1_8 >= 1\n",
            "\n",
            "_C39: 180 n_1_9 >= 1350\n",
            "\n",
            "_C40: n_1_9 >= 1\n",
            "\n",
            "_C41: 180 n_2_0 >= 1000\n",
            "\n",
            "_C42: n_2_0 >= 1\n",
            "\n",
            "_C43: 180 n_2_1 >= 900\n",
            "\n",
            "_C44: n_2_1 >= 1\n",
            "\n",
            "_C45: 180 n_2_2 >= 0\n",
            "\n",
            "_C46: n_2_2 >= 0\n",
            "\n",
            "_C47: 180 n_2_3 >= 750\n",
            "\n",
            "_C48: n_2_3 >= 1\n",
            "\n",
            "_C49: 180 n_2_4 >= 749\n",
            "\n",
            "_C50: n_2_4 >= 1\n",
            "\n",
            "_C51: 180 n_2_5 >= 1000\n",
            "\n",
            "_C52: n_2_5 >= 1\n",
            "\n",
            "_C53: 180 n_2_6 >= 249\n",
            "\n",
            "_C54: n_2_6 >= 1\n",
            "\n",
            "_C55: 180 n_2_7 >= 899\n",
            "\n",
            "_C56: n_2_7 >= 1\n",
            "\n",
            "_C57: 180 n_2_8 >= 999\n",
            "\n",
            "_C58: n_2_8 >= 1\n",
            "\n",
            "_C59: 180 n_2_9 >= 750\n",
            "\n",
            "_C60: n_2_9 >= 1\n",
            "\n",
            "_C61: 180 n_3_0 >= 1500\n",
            "\n",
            "_C62: n_3_0 >= 1\n",
            "\n",
            "_C63: 180 n_3_1 >= 1349\n",
            "\n",
            "_C64: n_3_1 >= 1\n",
            "\n",
            "_C65: 180 n_3_2 >= 750\n",
            "\n",
            "_C66: n_3_2 >= 1\n",
            "\n",
            "_C67: 180 n_3_3 >= 0\n",
            "\n",
            "_C68: n_3_3 >= 0\n",
            "\n",
            "_C69: 180 n_3_4 >= 1125\n",
            "\n",
            "_C70: n_3_4 >= 1\n",
            "\n",
            "_C71: 180 n_3_5 >= 1500\n",
            "\n",
            "_C72: n_3_5 >= 1\n",
            "\n",
            "_C73: 180 n_3_6 >= 374\n",
            "\n",
            "_C74: n_3_6 >= 1\n",
            "\n",
            "_C75: 180 n_3_7 >= 1349\n",
            "\n",
            "_C76: n_3_7 >= 1\n",
            "\n",
            "_C77: 180 n_3_8 >= 1499\n",
            "\n",
            "_C78: n_3_8 >= 1\n",
            "\n",
            "_C79: 180 n_3_9 >= 1124\n",
            "\n",
            "_C80: n_3_9 >= 1\n",
            "\n",
            "_C81: 180 n_4_0 >= 1499\n",
            "\n",
            "_C82: n_4_0 >= 1\n",
            "\n",
            "_C83: 180 n_4_1 >= 1349\n",
            "\n",
            "_C84: n_4_1 >= 1\n",
            "\n",
            "_C85: 180 n_4_2 >= 750\n",
            "\n",
            "_C86: n_4_2 >= 1\n",
            "\n",
            "_C87: 180 n_4_3 >= 1124\n",
            "\n",
            "_C88: n_4_3 >= 1\n",
            "\n",
            "_C89: 180 n_4_4 >= 0\n",
            "\n",
            "_C90: n_4_4 >= 0\n",
            "\n",
            "_C91: 180 n_4_5 >= 1500\n",
            "\n",
            "_C92: n_4_5 >= 1\n",
            "\n",
            "_C93: 180 n_4_6 >= 375\n",
            "\n",
            "_C94: n_4_6 >= 1\n",
            "\n",
            "_C95: 180 n_4_7 >= 1349\n",
            "\n",
            "_C96: n_4_7 >= 1\n",
            "\n",
            "_C97: 180 n_4_8 >= 1499\n",
            "\n",
            "_C98: n_4_8 >= 1\n",
            "\n",
            "_C99: 180 n_4_9 >= 1124\n",
            "\n",
            "_C100: n_4_9 >= 1\n",
            "\n",
            "_C101: 180 n_5_0 >= 2000\n",
            "\n",
            "_C102: n_5_0 >= 1\n",
            "\n",
            "_C103: 180 n_5_1 >= 1800\n",
            "\n",
            "_C104: n_5_1 >= 1\n",
            "\n",
            "_C105: 180 n_5_2 >= 999\n",
            "\n",
            "_C106: n_5_2 >= 1\n",
            "\n",
            "_C107: 180 n_5_3 >= 1499\n",
            "\n",
            "_C108: n_5_3 >= 1\n",
            "\n",
            "_C109: 180 n_5_4 >= 1499\n",
            "\n",
            "_C110: n_5_4 >= 1\n",
            "\n",
            "_C111: 180 n_5_5 >= 0\n",
            "\n",
            "_C112: n_5_5 >= 0\n",
            "\n",
            "_C113: 180 n_5_6 >= 500\n",
            "\n",
            "_C114: n_5_6 >= 1\n",
            "\n",
            "_C115: 180 n_5_7 >= 1800\n",
            "\n",
            "_C116: n_5_7 >= 1\n",
            "\n",
            "_C117: 180 n_5_8 >= 1999\n",
            "\n",
            "_C118: n_5_8 >= 1\n",
            "\n",
            "_C119: 180 n_5_9 >= 1499\n",
            "\n",
            "_C120: n_5_9 >= 1\n",
            "\n",
            "_C121: 180 n_6_0 >= 499\n",
            "\n",
            "_C122: n_6_0 >= 1\n",
            "\n",
            "_C123: 180 n_6_1 >= 450\n",
            "\n",
            "_C124: n_6_1 >= 1\n",
            "\n",
            "_C125: 180 n_6_2 >= 250\n",
            "\n",
            "_C126: n_6_2 >= 1\n",
            "\n",
            "_C127: 180 n_6_3 >= 374\n",
            "\n",
            "_C128: n_6_3 >= 1\n",
            "\n",
            "_C129: 180 n_6_4 >= 375\n",
            "\n",
            "_C130: n_6_4 >= 1\n",
            "\n",
            "_C131: 180 n_6_5 >= 500\n",
            "\n",
            "_C132: n_6_5 >= 1\n",
            "\n",
            "_C133: 180 n_6_6 >= 0\n",
            "\n",
            "_C134: n_6_6 >= 0\n",
            "\n",
            "_C135: 180 n_6_7 >= 449\n",
            "\n",
            "_C136: n_6_7 >= 1\n",
            "\n",
            "_C137: 180 n_6_8 >= 499\n",
            "\n",
            "_C138: n_6_8 >= 1\n",
            "\n",
            "_C139: 180 n_6_9 >= 374\n",
            "\n",
            "_C140: n_6_9 >= 1\n",
            "\n",
            "_C141: 180 n_7_0 >= 1799\n",
            "\n",
            "_C142: n_7_0 >= 1\n",
            "\n",
            "_C143: 180 n_7_1 >= 1620\n",
            "\n",
            "_C144: n_7_1 >= 1\n",
            "\n",
            "_C145: 180 n_7_2 >= 900\n",
            "\n",
            "_C146: n_7_2 >= 1\n",
            "\n",
            "_C147: 180 n_7_3 >= 1349\n",
            "\n",
            "_C148: n_7_3 >= 1\n",
            "\n",
            "_C149: 180 n_7_4 >= 1349\n",
            "\n",
            "_C150: n_7_4 >= 1\n",
            "\n",
            "_C151: 180 n_7_5 >= 1800\n",
            "\n",
            "_C152: n_7_5 >= 1\n",
            "\n",
            "_C153: 180 n_7_6 >= 449\n",
            "\n",
            "_C154: n_7_6 >= 1\n",
            "\n",
            "_C155: 180 n_7_7 >= 0\n",
            "\n",
            "_C156: n_7_7 >= 0\n",
            "\n",
            "_C157: 180 n_7_8 >= 1799\n",
            "\n",
            "_C158: n_7_8 >= 1\n",
            "\n",
            "_C159: 180 n_7_9 >= 1349\n",
            "\n",
            "_C160: n_7_9 >= 1\n",
            "\n",
            "_C161: 180 n_8_0 >= 1999\n",
            "\n",
            "_C162: n_8_0 >= 1\n",
            "\n",
            "_C163: 180 n_8_1 >= 1799\n",
            "\n",
            "_C164: n_8_1 >= 1\n",
            "\n",
            "_C165: 180 n_8_2 >= 1000\n",
            "\n",
            "_C166: n_8_2 >= 1\n",
            "\n",
            "_C167: 180 n_8_3 >= 1499\n",
            "\n",
            "_C168: n_8_3 >= 1\n",
            "\n",
            "_C169: 180 n_8_4 >= 1500\n",
            "\n",
            "_C170: n_8_4 >= 1\n",
            "\n",
            "_C171: 180 n_8_5 >= 1999\n",
            "\n",
            "_C172: n_8_5 >= 1\n",
            "\n",
            "_C173: 180 n_8_6 >= 500\n",
            "\n",
            "_C174: n_8_6 >= 1\n",
            "\n",
            "_C175: 180 n_8_7 >= 1799\n",
            "\n",
            "_C176: n_8_7 >= 1\n",
            "\n",
            "_C177: 180 n_8_8 >= 0\n",
            "\n",
            "_C178: n_8_8 >= 0\n",
            "\n",
            "_C179: 180 n_8_9 >= 1500\n",
            "\n",
            "_C180: n_8_9 >= 1\n",
            "\n",
            "_C181: 180 n_9_0 >= 1500\n",
            "\n",
            "_C182: n_9_0 >= 1\n",
            "\n",
            "_C183: 180 n_9_1 >= 1350\n",
            "\n",
            "_C184: n_9_1 >= 1\n",
            "\n",
            "_C185: 180 n_9_2 >= 749\n",
            "\n",
            "_C186: n_9_2 >= 1\n",
            "\n",
            "_C187: 180 n_9_3 >= 1124\n",
            "\n",
            "_C188: n_9_3 >= 1\n",
            "\n",
            "_C189: 180 n_9_4 >= 1125\n",
            "\n",
            "_C190: n_9_4 >= 1\n",
            "\n",
            "_C191: 180 n_9_5 >= 1500\n",
            "\n",
            "_C192: n_9_5 >= 1\n",
            "\n",
            "_C193: 180 n_9_6 >= 375\n",
            "\n",
            "_C194: n_9_6 >= 1\n",
            "\n",
            "_C195: 180 n_9_7 >= 1349\n",
            "\n",
            "_C196: n_9_7 >= 1\n",
            "\n",
            "_C197: 180 n_9_8 >= 1500\n",
            "\n",
            "_C198: n_9_8 >= 1\n",
            "\n",
            "_C199: 180 n_9_9 >= 0\n",
            "\n",
            "_C200: n_9_9 >= 0\n",
            "\n",
            "_C201: 2.27715702869 n_0_1 + 2.32801392745 n_0_2 + 1.68903376915 n_0_3\n",
            " + 1.48970684439 n_0_4 + 1.93968135212 n_0_5 + 1.13344644728 n_0_6\n",
            " + 2.83508983106 n_0_7 + 2.14832516458 n_0_8 + 2.0264955283 n_0_9\n",
            " + 2.27715702869 n_1_0 + 1.48060705416 n_1_2 + 2.40659661098 n_1_3\n",
            " + 1.85786753184 n_1_4 + 2.94181770562 n_1_5 + 2.3066844883 n_1_6\n",
            " + 2.46547499233 n_1_7 + 2.96184627198 n_1_8 + 1.25435345438 n_1_9\n",
            " + 2.32801392745 n_2_0 + 1.48060705416 n_2_1 + 2.20553347606 n_2_3\n",
            " + 2.04936996661 n_2_4 + 2.75824110336 n_2_5 + 2.30823227855 n_2_6\n",
            " + 1.98510069057 n_2_7 + 2.70276640418 n_2_8 + 1.56019087332 n_2_9\n",
            " + 1.68903376915 n_3_0 + 2.40659661098 n_3_1 + 2.20553347606 n_3_2\n",
            " + 1.97719278591 n_3_4 + 1.55300704281 n_3_5 + 1.56040621317 n_3_6\n",
            " + 2.31195025094 n_3_7 + 1.57150444426 n_3_8 + 2.21671244914 n_3_9\n",
            " + 1.48970684439 n_4_0 + 1.85786753184 n_4_1 + 2.04936996661 n_4_2\n",
            " + 1.97719278591 n_4_3 + 2.37525497766 n_4_5 + 1.57638949824 n_4_6\n",
            " + 2.79509681006 n_4_7 + 2.52468771155 n_4_8 + 1.60498159592 n_4_9\n",
            " + 1.93968135212 n_5_0 + 2.94181770562 n_5_1 + 2.75824110336 n_5_2\n",
            " + 1.55300704281 n_5_3 + 2.37525497766 n_5_4 + 1.81732395013 n_5_6\n",
            " + 2.7291571876 n_5_7 + 1.32253076856 n_5_8 + 2.73473764608 n_5_9\n",
            " + 1.13344644728 n_6_0 + 2.3066844883 n_6_1 + 2.30823227855 n_6_2\n",
            " + 1.56040621317 n_6_3 + 1.57638949824 n_6_4 + 1.81732395013 n_6_5\n",
            " + 2.74677837545 n_6_7 + 2.01642136883 n_6_8 + 2.06241535952 n_6_9\n",
            " + 2.83508983106 n_7_0 + 2.46547499233 n_7_1 + 1.98510069057 n_7_2\n",
            " + 2.31195025094 n_7_3 + 2.79509681006 n_7_4 + 2.7291571876 n_7_5\n",
            " + 2.74677837545 n_7_6 + 2.50409737478 n_7_8 + 2.49931899536 n_7_9\n",
            " + 2.14832516458 n_8_0 + 2.96184627198 n_8_1 + 2.70276640418 n_8_2\n",
            " + 1.57150444426 n_8_3 + 2.52468771155 n_8_4 + 1.32253076856 n_8_5\n",
            " + 2.01642136883 n_8_6 + 2.50409737478 n_8_7 + 2.78369157549 n_8_9\n",
            " + 2.0264955283 n_9_0 + 1.25435345438 n_9_1 + 1.56019087332 n_9_2\n",
            " + 2.21671244914 n_9_3 + 1.60498159592 n_9_4 + 2.73473764608 n_9_5\n",
            " + 2.06241535952 n_9_6 + 2.49931899536 n_9_7 + 2.78369157549 n_9_8 <= 12000\n",
            "\n",
            "_C202: 0 n_0_0 + n_0_1 + n_0_2 + n_0_3 + n_0_4 + n_0_5 + n_0_6 + n_0_7 + n_0_8\n",
            " + n_0_9 - n_1_0 - n_2_0 - n_3_0 - n_4_0 - n_5_0 - n_6_0 - n_7_0 - n_8_0\n",
            " - n_9_0 = 0\n",
            "\n",
            "_C203: n_0_0 + n_0_1 + n_0_2 + n_0_3 + n_0_4 + n_0_5 + n_0_6 + n_0_7 + n_0_8\n",
            " + n_0_9 <= 199\n",
            "\n",
            "_C204: - n_0_1 + n_1_0 + 0 n_1_1 + n_1_2 + n_1_3 + n_1_4 + n_1_5 + n_1_6\n",
            " + n_1_7 + n_1_8 + n_1_9 - n_2_1 - n_3_1 - n_4_1 - n_5_1 - n_6_1 - n_7_1\n",
            " - n_8_1 - n_9_1 = 0\n",
            "\n",
            "_C205: n_1_0 + n_1_1 + n_1_2 + n_1_3 + n_1_4 + n_1_5 + n_1_6 + n_1_7 + n_1_8\n",
            " + n_1_9 <= 180\n",
            "\n",
            "_C206: - n_0_2 - n_1_2 + n_2_0 + n_2_1 + 0 n_2_2 + n_2_3 + n_2_4 + n_2_5\n",
            " + n_2_6 + n_2_7 + n_2_8 + n_2_9 - n_3_2 - n_4_2 - n_5_2 - n_6_2 - n_7_2\n",
            " - n_8_2 - n_9_2 = 0\n",
            "\n",
            "_C207: n_2_0 + n_2_1 + n_2_2 + n_2_3 + n_2_4 + n_2_5 + n_2_6 + n_2_7 + n_2_8\n",
            " + n_2_9 <= 100\n",
            "\n",
            "_C208: - n_0_3 - n_1_3 - n_2_3 + n_3_0 + n_3_1 + n_3_2 + 0 n_3_3 + n_3_4\n",
            " + n_3_5 + n_3_6 + n_3_7 + n_3_8 + n_3_9 - n_4_3 - n_5_3 - n_6_3 - n_7_3\n",
            " - n_8_3 - n_9_3 = 0\n",
            "\n",
            "_C209: n_3_0 + n_3_1 + n_3_2 + n_3_3 + n_3_4 + n_3_5 + n_3_6 + n_3_7 + n_3_8\n",
            " + n_3_9 <= 149\n",
            "\n",
            "_C210: - n_0_4 - n_1_4 - n_2_4 - n_3_4 + n_4_0 + n_4_1 + n_4_2 + n_4_3\n",
            " + 0 n_4_4 + n_4_5 + n_4_6 + n_4_7 + n_4_8 + n_4_9 - n_5_4 - n_6_4 - n_7_4\n",
            " - n_8_4 - n_9_4 = 0\n",
            "\n",
            "_C211: n_4_0 + n_4_1 + n_4_2 + n_4_3 + n_4_4 + n_4_5 + n_4_6 + n_4_7 + n_4_8\n",
            " + n_4_9 <= 149\n",
            "\n",
            "_C212: - n_0_5 - n_1_5 - n_2_5 - n_3_5 - n_4_5 + n_5_0 + n_5_1 + n_5_2 + n_5_3\n",
            " + n_5_4 + 0 n_5_5 + n_5_6 + n_5_7 + n_5_8 + n_5_9 - n_6_5 - n_7_5 - n_8_5\n",
            " - n_9_5 = 0\n",
            "\n",
            "_C213: n_5_0 + n_5_1 + n_5_2 + n_5_3 + n_5_4 + n_5_5 + n_5_6 + n_5_7 + n_5_8\n",
            " + n_5_9 <= 199\n",
            "\n",
            "_C214: - n_0_6 - n_1_6 - n_2_6 - n_3_6 - n_4_6 - n_5_6 + n_6_0 + n_6_1 + n_6_2\n",
            " + n_6_3 + n_6_4 + n_6_5 + 0 n_6_6 + n_6_7 + n_6_8 + n_6_9 - n_7_6 - n_8_6\n",
            " - n_9_6 = 0\n",
            "\n",
            "_C215: n_6_0 + n_6_1 + n_6_2 + n_6_3 + n_6_4 + n_6_5 + n_6_6 + n_6_7 + n_6_8\n",
            " + n_6_9 <= 50\n",
            "\n",
            "_C216: - n_0_7 - n_1_7 - n_2_7 - n_3_7 - n_4_7 - n_5_7 - n_6_7 + n_7_0 + n_7_1\n",
            " + n_7_2 + n_7_3 + n_7_4 + n_7_5 + n_7_6 + 0 n_7_7 + n_7_8 + n_7_9 - n_8_7\n",
            " - n_9_7 = 0\n",
            "\n",
            "_C217: n_7_0 + n_7_1 + n_7_2 + n_7_3 + n_7_4 + n_7_5 + n_7_6 + n_7_7 + n_7_8\n",
            " + n_7_9 <= 179\n",
            "\n",
            "_C218: - n_0_8 - n_1_8 - n_2_8 - n_3_8 - n_4_8 - n_5_8 - n_6_8 - n_7_8 + n_8_0\n",
            " + n_8_1 + n_8_2 + n_8_3 + n_8_4 + n_8_5 + n_8_6 + n_8_7 + 0 n_8_8 + n_8_9\n",
            " - n_9_8 = 0\n",
            "\n",
            "_C219: n_8_0 + n_8_1 + n_8_2 + n_8_3 + n_8_4 + n_8_5 + n_8_6 + n_8_7 + n_8_8\n",
            " + n_8_9 <= 199\n",
            "\n",
            "_C220: - n_0_9 - n_1_9 - n_2_9 - n_3_9 - n_4_9 - n_5_9 - n_6_9 - n_7_9 - n_8_9\n",
            " + n_9_0 + n_9_1 + n_9_2 + n_9_3 + n_9_4 + n_9_5 + n_9_6 + n_9_7 + n_9_8\n",
            " + 0 n_9_9 = 0\n",
            "\n",
            "_C221: n_9_0 + n_9_1 + n_9_2 + n_9_3 + n_9_4 + n_9_5 + n_9_6 + n_9_7 + n_9_8\n",
            " + n_9_9 <= 150\n",
            "\n",
            "VARIABLES\n",
            "n_0_0 free Integer\n",
            "n_0_1 free Integer\n",
            "n_0_2 free Integer\n",
            "n_0_3 free Integer\n",
            "n_0_4 free Integer\n",
            "n_0_5 free Integer\n",
            "n_0_6 free Integer\n",
            "n_0_7 free Integer\n",
            "n_0_8 free Integer\n",
            "n_0_9 free Integer\n",
            "n_1_0 free Integer\n",
            "n_1_1 free Integer\n",
            "n_1_2 free Integer\n",
            "n_1_3 free Integer\n",
            "n_1_4 free Integer\n",
            "n_1_5 free Integer\n",
            "n_1_6 free Integer\n",
            "n_1_7 free Integer\n",
            "n_1_8 free Integer\n",
            "n_1_9 free Integer\n",
            "n_2_0 free Integer\n",
            "n_2_1 free Integer\n",
            "n_2_2 free Integer\n",
            "n_2_3 free Integer\n",
            "n_2_4 free Integer\n",
            "n_2_5 free Integer\n",
            "n_2_6 free Integer\n",
            "n_2_7 free Integer\n",
            "n_2_8 free Integer\n",
            "n_2_9 free Integer\n",
            "n_3_0 free Integer\n",
            "n_3_1 free Integer\n",
            "n_3_2 free Integer\n",
            "n_3_3 free Integer\n",
            "n_3_4 free Integer\n",
            "n_3_5 free Integer\n",
            "n_3_6 free Integer\n",
            "n_3_7 free Integer\n",
            "n_3_8 free Integer\n",
            "n_3_9 free Integer\n",
            "n_4_0 free Integer\n",
            "n_4_1 free Integer\n",
            "n_4_2 free Integer\n",
            "n_4_3 free Integer\n",
            "n_4_4 free Integer\n",
            "n_4_5 free Integer\n",
            "n_4_6 free Integer\n",
            "n_4_7 free Integer\n",
            "n_4_8 free Integer\n",
            "n_4_9 free Integer\n",
            "n_5_0 free Integer\n",
            "n_5_1 free Integer\n",
            "n_5_2 free Integer\n",
            "n_5_3 free Integer\n",
            "n_5_4 free Integer\n",
            "n_5_5 free Integer\n",
            "n_5_6 free Integer\n",
            "n_5_7 free Integer\n",
            "n_5_8 free Integer\n",
            "n_5_9 free Integer\n",
            "n_6_0 free Integer\n",
            "n_6_1 free Integer\n",
            "n_6_2 free Integer\n",
            "n_6_3 free Integer\n",
            "n_6_4 free Integer\n",
            "n_6_5 free Integer\n",
            "n_6_6 free Integer\n",
            "n_6_7 free Integer\n",
            "n_6_8 free Integer\n",
            "n_6_9 free Integer\n",
            "n_7_0 free Integer\n",
            "n_7_1 free Integer\n",
            "n_7_2 free Integer\n",
            "n_7_3 free Integer\n",
            "n_7_4 free Integer\n",
            "n_7_5 free Integer\n",
            "n_7_6 free Integer\n",
            "n_7_7 free Integer\n",
            "n_7_8 free Integer\n",
            "n_7_9 free Integer\n",
            "n_8_0 free Integer\n",
            "n_8_1 free Integer\n",
            "n_8_2 free Integer\n",
            "n_8_3 free Integer\n",
            "n_8_4 free Integer\n",
            "n_8_5 free Integer\n",
            "n_8_6 free Integer\n",
            "n_8_7 free Integer\n",
            "n_8_8 free Integer\n",
            "n_8_9 free Integer\n",
            "n_9_0 free Integer\n",
            "n_9_1 free Integer\n",
            "n_9_2 free Integer\n",
            "n_9_3 free Integer\n",
            "n_9_4 free Integer\n",
            "n_9_5 free Integer\n",
            "n_9_6 free Integer\n",
            "n_9_7 free Integer\n",
            "n_9_8 free Integer\n",
            "n_9_9 free Integer\n",
            "\n"
          ]
        },
        {
          "name": "stderr",
          "output_type": "stream",
          "text": [
            "/usr/local/lib/python3.10/dist-packages/pulp/pulp.py:1352: UserWarning: Spaces are not permitted in the name. Converted to '_'\n",
            "  warnings.warn(\"Spaces are not permitted in the name. Converted to '_'\")\n"
          ]
        }
      ],
      "source": [
        "model = LpProblem(\"Airline Cost Minimizer\", LpMinimize)\n",
        "model += lpSum([DC_pq[i][j] * n_pq[i][j] for i in range(cities) for j in range(cities)]); #optimization function\n",
        "for i in range(cities):\n",
        "  for j in range(cities):\n",
        "    model += S*n_pq[i][j]>=P_pq[i][j];\n",
        "    # model += S*n_pq[i][j]==P_pq[i][j];\n",
        "    model += n_pq[i][j] >= Nmin_pq[i][j]\n",
        "model += lpSum([Tb_pq[i][j] * n_pq[i][j] for i in range(cities) for j in range(cities)]) <= U*A;\n",
        "for i in range(cities):\n",
        "  model += lpSum(n_pq[i][j] for j in range(cities)) == lpSum(n_pq[j][i] for j in range(cities))\n",
        "  model += lpSum(n_pq[i][j] for j in range(cities)) <= Nmax_p[i]\n",
        "print(model);"
      ],
      "id": "WoeCbJArFe3E"
    },
    {
      "cell_type": "markdown",
      "metadata": {
        "id": "DjZ71vKfO9mI"
      },
      "source": [
        "### Solving the model"
      ],
      "id": "DjZ71vKfO9mI"
    },
    {
      "cell_type": "code",
      "execution_count": null,
      "metadata": {
        "id": "JZdAhUr4PS2R"
      },
      "outputs": [],
      "source": [
        "status = model.solve()"
      ],
      "id": "JZdAhUr4PS2R"
    },
    {
      "cell_type": "code",
      "execution_count": null,
      "metadata": {
        "colab": {
          "base_uri": "https://localhost:8080/",
          "height": 37
        },
        "id": "pbBXDQS1O_vW",
        "outputId": "4eebfeef-186f-4018-a363-69a857e0ee8f"
      },
      "outputs": [
        {
          "data": {
            "application/vnd.google.colaboratory.intrinsic+json": {
              "type": "string"
            },
            "text/plain": [
              "'Optimal'"
            ]
          },
          "execution_count": 10,
          "metadata": {},
          "output_type": "execute_result"
        }
      ],
      "source": [
        "LpStatus[status]"
      ],
      "id": "pbBXDQS1O_vW"
    },
    {
      "cell_type": "code",
      "execution_count": null,
      "metadata": {
        "colab": {
          "base_uri": "https://localhost:8080/"
        },
        "id": "B7E2R-ePPYpn",
        "outputId": "1c162981-3a7c-4a54-8a43-3a8ed1485b0a"
      },
      "outputs": [
        {
          "name": "stdout",
          "output_type": "stream",
          "text": [
            "n_0_0 = 0.0\n",
            "n_0_1 = 10.0\n",
            "n_0_2 = 6.0\n",
            "n_0_3 = 9.0\n",
            "n_0_4 = 9.0\n",
            "n_0_5 = 12.0\n",
            "n_0_6 = 3.0\n",
            "n_0_7 = 10.0\n",
            "n_0_8 = 12.0\n",
            "n_0_9 = 9.0\n",
            "n_1_0 = 10.0\n",
            "n_1_1 = 0.0\n",
            "n_1_2 = 5.0\n",
            "n_1_3 = 8.0\n",
            "n_1_4 = 8.0\n",
            "n_1_5 = 10.0\n",
            "n_1_6 = 3.0\n",
            "n_1_7 = 9.0\n",
            "n_1_8 = 10.0\n",
            "n_1_9 = 8.0\n",
            "n_2_0 = 6.0\n",
            "n_2_1 = 5.0\n",
            "n_2_2 = 0.0\n",
            "n_2_3 = 5.0\n",
            "n_2_4 = 5.0\n",
            "n_2_5 = 6.0\n",
            "n_2_6 = 2.0\n",
            "n_2_7 = 5.0\n",
            "n_2_8 = 6.0\n",
            "n_2_9 = 5.0\n",
            "n_3_0 = 9.0\n",
            "n_3_1 = 8.0\n",
            "n_3_2 = 5.0\n",
            "n_3_3 = 0.0\n",
            "n_3_4 = 7.0\n",
            "n_3_5 = 9.0\n",
            "n_3_6 = 3.0\n",
            "n_3_7 = 8.0\n",
            "n_3_8 = 9.0\n",
            "n_3_9 = 7.0\n",
            "n_4_0 = 9.0\n",
            "n_4_1 = 8.0\n",
            "n_4_2 = 5.0\n",
            "n_4_3 = 7.0\n",
            "n_4_4 = 0.0\n",
            "n_4_5 = 9.0\n",
            "n_4_6 = 3.0\n",
            "n_4_7 = 8.0\n",
            "n_4_8 = 9.0\n",
            "n_4_9 = 7.0\n",
            "n_5_0 = 12.0\n",
            "n_5_1 = 10.0\n",
            "n_5_2 = 6.0\n",
            "n_5_3 = 9.0\n",
            "n_5_4 = 9.0\n",
            "n_5_5 = 0.0\n",
            "n_5_6 = 3.0\n",
            "n_5_7 = 10.0\n",
            "n_5_8 = 12.0\n",
            "n_5_9 = 9.0\n",
            "n_6_0 = 3.0\n",
            "n_6_1 = 3.0\n",
            "n_6_2 = 2.0\n",
            "n_6_3 = 3.0\n",
            "n_6_4 = 3.0\n",
            "n_6_5 = 3.0\n",
            "n_6_6 = 0.0\n",
            "n_6_7 = 3.0\n",
            "n_6_8 = 3.0\n",
            "n_6_9 = 3.0\n",
            "n_7_0 = 10.0\n",
            "n_7_1 = 9.0\n",
            "n_7_2 = 5.0\n",
            "n_7_3 = 8.0\n",
            "n_7_4 = 8.0\n",
            "n_7_5 = 10.0\n",
            "n_7_6 = 3.0\n",
            "n_7_7 = 0.0\n",
            "n_7_8 = 10.0\n",
            "n_7_9 = 8.0\n",
            "n_8_0 = 12.0\n",
            "n_8_1 = 10.0\n",
            "n_8_2 = 6.0\n",
            "n_8_3 = 9.0\n",
            "n_8_4 = 9.0\n",
            "n_8_5 = 12.0\n",
            "n_8_6 = 3.0\n",
            "n_8_7 = 10.0\n",
            "n_8_8 = 0.0\n",
            "n_8_9 = 9.0\n",
            "n_9_0 = 9.0\n",
            "n_9_1 = 8.0\n",
            "n_9_2 = 5.0\n",
            "n_9_3 = 7.0\n",
            "n_9_4 = 7.0\n",
            "n_9_5 = 9.0\n",
            "n_9_6 = 3.0\n",
            "n_9_7 = 8.0\n",
            "n_9_8 = 9.0\n",
            "n_9_9 = 0.0\n",
            "[[ 0. 10.  6.  9.  9. 12.  3. 10. 12.  9.]\n",
            " [10.  0.  5.  8.  8. 10.  3.  9. 10.  8.]\n",
            " [ 6.  5.  0.  5.  5.  6.  2.  5.  6.  5.]\n",
            " [ 9.  8.  5.  0.  7.  9.  3.  8.  9.  7.]\n",
            " [ 9.  8.  5.  7.  0.  9.  3.  8.  9.  7.]\n",
            " [12. 10.  6.  9.  9.  0.  3. 10. 12.  9.]\n",
            " [ 3.  3.  2.  3.  3.  3.  0.  3.  3.  3.]\n",
            " [10.  9.  5.  8.  8. 10.  3.  0. 10.  8.]\n",
            " [12. 10.  6.  9.  9. 12.  3. 10.  0.  9.]\n",
            " [ 9.  8.  5.  7.  7.  9.  3.  8.  9.  0.]]\n"
          ]
        }
      ],
      "source": [
        "# stations = ['Mumbai', 'Delhi', 'Lucknow', 'Hyderabad', 'Ahmedabad', 'Banglore', 'Pune', 'Kolkata', 'Chennai', 'Jaipur']\n",
        "num_flights = np.zeros((cities, cities))\n",
        "dummy = []\n",
        "for v in model.variables():\n",
        "    dummy.append(v.varValue)\n",
        "    print(v.name, \"=\", v.varValue)\n",
        "num_flights = np.array(dummy).reshape(cities, cities)\n",
        "print(num_flights)"
      ],
      "id": "B7E2R-ePPYpn"
    },
    {
      "cell_type": "code",
      "execution_count": null,
      "metadata": {
        "id": "HVGyLcI_br6t"
      },
      "outputs": [],
      "source": [
        "total_min_cost = model.objective.value()"
      ],
      "id": "HVGyLcI_br6t"
    },
    {
      "cell_type": "markdown",
      "metadata": {
        "id": "yHGjPhfZm0G_"
      },
      "source": [
        "## Predicting ticket fares"
      ],
      "id": "yHGjPhfZm0G_"
    },
    {
      "cell_type": "code",
      "execution_count": null,
      "metadata": {
        "colab": {
          "base_uri": "https://localhost:8080/"
        },
        "id": "JTA669Wjizuv",
        "outputId": "2dbb2f6b-a4e7-4e46-bf72-21ca98bca776"
      },
      "outputs": [
        {
          "name": "stdout",
          "output_type": "stream",
          "text": [
            "[[          nan 2136.59354838 2400.47490453 1245.05965875  884.8829533\n",
            "  1696.8389984   241.45516698 3068.27019754 2074.63696767 1854.84112594]\n",
            " [2135.40655196           nan  804.46884884 2508.61816913 1531.11230472\n",
            "  3248.52393931 2627.57080355 2451.78763634 3282.03031693  453.63090745]\n",
            " [2398.07442963  803.57499456           nan 2418.78236636 2108.26692357\n",
            "  3174.9614548  3162.45451047 1648.92048851 3077.86532734 1123.96696823]\n",
            " [1244.22961898 2510.47778231 2418.78236636           nan 1829.93029861\n",
            "   998.59799762 1352.88652874 2341.55402534 1032.68832415 2280.49150432]\n",
            " [ 884.8829533  1531.11230472 2105.455901   1831.55835048           nan\n",
            "  2483.38042846 1387.76146712 3203.86856016 2755.05678654 1133.92066526]\n",
            " [1696.8389984  3246.71920379 3178.1395944   999.26417373 2485.03711987\n",
            "            nan 1475.89089618 2891.15081766  582.7045129  3134.60959151]\n",
            " [ 241.45516698 2621.73175732 3149.80469243 1352.88652874 1387.76146712\n",
            "  1475.89089618           nan 3512.54178091 1839.09123345 2564.79566793]\n",
            " [3069.97573962 2450.27418718 1647.08835463 2341.55402534 3203.86856016\n",
            "  2891.15081766 3512.54178091           nan 2516.2487266  2675.96764919]\n",
            " [2074.63696767 3282.03031693 3074.78746201 1032.68832415 2753.22008201\n",
            "   582.7045129  1835.41305099 2516.2487266            nan 3220.91889936]\n",
            " [1853.60456519  453.63090745 1125.46759169 2280.49150432 1132.91273578\n",
            "  3132.51985179 2557.95621282 2675.96764919 3220.91889936           nan]]\n"
          ]
        },
        {
          "name": "stderr",
          "output_type": "stream",
          "text": [
            "<ipython-input-13-2edc0b4c6508>:4: RuntimeWarning: invalid value encountered in double_scalars\n",
            "  base_fare[i][j] = DC_pq[i][j]*num_flights[i][j]/P_pq[i][j]\n"
          ]
        }
      ],
      "source": [
        "base_fare = np.zeros((cities, cities))\n",
        "for i in range(cities):\n",
        "  for j in range(cities):\n",
        "    base_fare[i][j] = DC_pq[i][j]*num_flights[i][j]/P_pq[i][j]\n",
        "base_fare = np.array(base_fare)\n",
        "base_fare = base_fare*2 #account for crew salaries and profit\n",
        "print(base_fare);"
      ],
      "id": "JTA669Wjizuv"
    },
    {
      "cell_type": "markdown",
      "metadata": {
        "id": "AotzPp9ArNCs"
      },
      "source": [
        "# Profit of Airline"
      ],
      "id": "AotzPp9ArNCs"
    },
    {
      "cell_type": "code",
      "execution_count": null,
      "metadata": {
        "colab": {
          "base_uri": "https://localhost:8080/"
        },
        "id": "e1iYd9YkpU_o",
        "outputId": "c52933b4-bb8b-4e3d-d118-c47e6fec1294"
      },
      "outputs": [
        {
          "name": "stdout",
          "output_type": "stream",
          "text": [
            "Profit of Airline is  115372513.34488004\n"
          ]
        }
      ],
      "source": [
        "revenue = 0\n",
        "for i in range(cities):\n",
        "  for j in range(cities):\n",
        "    if math.isnan(base_fare[i][j]):\n",
        "      pass\n",
        "    else:\n",
        "      revenue += base_fare[i][j]*P_pq[i][j]\n",
        "profit = revenue - total_min_cost\n",
        "print(\"Profit of Airline is \", profit)"
      ],
      "id": "e1iYd9YkpU_o"
    },
    {
      "cell_type": "markdown",
      "metadata": {
        "id": "qomxA952elTj"
      },
      "source": [
        "## Tabulating the reuslts"
      ],
      "id": "qomxA952elTj"
    },
    {
      "cell_type": "code",
      "execution_count": null,
      "metadata": {
        "colab": {
          "base_uri": "https://localhost:8080/"
        },
        "id": "WQLK48YAeOt5",
        "outputId": "e36856d5-5382-4d76-c197-bf3b5d5208fa"
      },
      "outputs": [
        {
          "name": "stdout",
          "output_type": "stream",
          "text": [
            "Looking in indexes: https://pypi.org/simple, https://us-python.pkg.dev/colab-wheels/public/simple/\n",
            "Requirement already satisfied: tabulate in /usr/local/lib/python3.10/dist-packages (0.8.10)\n"
          ]
        }
      ],
      "source": [
        "# Tabulating the results\n",
        "!pip install tabulate\n",
        "# !pip install python-docx"
      ],
      "id": "WQLK48YAeOt5"
    },
    {
      "cell_type": "code",
      "execution_count": null,
      "metadata": {
        "id": "JMxrSJpRendg"
      },
      "outputs": [],
      "source": [
        "# import docx\n",
        "from tabulate import tabulate\n",
        "# doc = docx.Document()\n",
        "# doc.add_heading('AIRLINE XYZ', 0)\n",
        "# doc.add_heading('No of aircrafts = 100', 3)\n",
        "# doc.add_heading('Seating capacity of aircraft = 180', 3)\n",
        "headers = [\"Destination\", \"Distance\", \"Block Time(in hrs)\", \"Cost per flight(INR)\", \"Demand\", \"# Flights\", \"Ticket cost\"]\n",
        "def get_all_stat():\n",
        "  for i in range(cities):\n",
        "    # doc.add_heading(stations[i], 0)\n",
        "    table = []\n",
        "    for j in range(cities):\n",
        "      table_data = []\n",
        "      table_data.append(stations[j])\n",
        "      table_data.append(d_pq[i][j])\n",
        "      table_data.append(Tb_pq[i][j])\n",
        "      table_data.append(DC_pq[i][j])\n",
        "      table_data.append(P_pq[i][j])\n",
        "      table_data.append(num_flights[i][j])\n",
        "      table_data.append(base_fare[i][j])\n",
        "      table.append(table_data)\n",
        "    # doc.add_heading(tabulate(table, headers, tablefmt=\"fancy_grid\"), 3)\n",
        "    print(tabulate(table, headers, tablefmt=\"fancy_grid\"))\n",
        "\n",
        "# doc.save(\"nikhil.docx\")\n",
        "\n",
        "def get_airport_stat(i):\n",
        "  table = []\n",
        "  for j in range(cities):\n",
        "    table_data = []\n",
        "    table_data.append(stations[j])\n",
        "    table_data.append(d_pq[i][j])\n",
        "    table_data.append(Tb_pq[i][j])\n",
        "    table_data.append(DC_pq[i][j])\n",
        "    table_data.append(P_pq[i][j])\n",
        "    table_data.append(num_flights[i][j])\n",
        "    table_data.append(base_fare[i][j])\n",
        "    table.append(table_data)\n",
        "  print(tabulate(table, headers, tablefmt=\"fancy_grid\"))"
      ],
      "id": "JMxrSJpRendg"
    },
    {
      "cell_type": "code",
      "execution_count": null,
      "metadata": {
        "colab": {
          "base_uri": "https://localhost:8080/"
        },
        "id": "pWwZMBG1RT6m",
        "outputId": "69b4bb80-35ba-4d0c-a5f8-996376b140d7"
      },
      "outputs": [
        {
          "name": "stdout",
          "output_type": "stream",
          "text": [
            "╒═══════════════╤════════════╤══════════════════════╤════════════════════════╤══════════╤═════════════╤═══════════════╕\n",
            "│ Destination   │   Distance │   Block Time(in hrs) │   Cost per flight(INR) │   Demand │   # Flights │   Ticket cost │\n",
            "╞═══════════════╪════════════╪══════════════════════╪════════════════════════╪══════════╪═════════════╪═══════════════╡\n",
            "│ Mumbai        │   1195.21  │              2.32801 │               199840   │     1000 │           6 │      2398.07  │\n",
            "├───────────────┼────────────┼──────────────────────┼────────────────────────┼──────────┼─────────────┼───────────────┤\n",
            "│ Delhi         │    432.546 │              1.48061 │                72321.7 │      900 │           5 │       803.575 │\n",
            "├───────────────┼────────────┼──────────────────────┼────────────────────────┼──────────┼─────────────┼───────────────┤\n",
            "│ Lucknow       │      0     │              0       │                    0   │        0 │           0 │       nan     │\n",
            "├───────────────┼────────────┼──────────────────────┼────────────────────────┼──────────┼─────────────┼───────────────┤\n",
            "│ Hyderabad     │   1084.98  │              2.20553 │               181409   │      750 │           5 │      2418.78  │\n",
            "├───────────────┼────────────┼──────────────────────┼────────────────────────┼──────────┼─────────────┼───────────────┤\n",
            "│ Ahmedabad     │    944.433 │              2.04937 │               157909   │      749 │           5 │      2108.27  │\n",
            "├───────────────┼────────────┼──────────────────────┼────────────────────────┼──────────┼─────────────┼───────────────┤\n",
            "│ Banglore      │   1582.42  │              2.75824 │               264580   │     1000 │           6 │      3174.96  │\n",
            "├───────────────┼────────────┼──────────────────────┼────────────────────────┼──────────┼─────────────┼───────────────┤\n",
            "│ Pune          │   1177.41  │              2.30823 │               196863   │      249 │           2 │      3162.45  │\n",
            "├───────────────┼────────────┼──────────────────────┼────────────────────────┼──────────┼─────────────┼───────────────┤\n",
            "│ Kolkata       │    886.591 │              1.9851  │               148238   │      899 │           5 │      1648.92  │\n",
            "├───────────────┼────────────┼──────────────────────┼────────────────────────┼──────────┼─────────────┼───────────────┤\n",
            "│ Chennai       │   1532.49  │              2.70277 │               256232   │      999 │           6 │      3077.87  │\n",
            "├───────────────┼────────────┼──────────────────────┼────────────────────────┼──────────┼─────────────┼───────────────┤\n",
            "│ Jaipur        │    504.172 │              1.56019 │                84297.5 │      750 │           5 │      1123.97  │\n",
            "╘═══════════════╧════════════╧══════════════════════╧════════════════════════╧══════════╧═════════════╧═══════════════╛\n"
          ]
        }
      ],
      "source": [
        "get_airport_stat(2)"
      ],
      "id": "pWwZMBG1RT6m"
    },
    {
      "cell_type": "markdown",
      "metadata": {
        "id": "DOP1N33XtTxf"
      },
      "source": [
        "## Demand Generation"
      ],
      "id": "DOP1N33XtTxf"
    },
    {
      "cell_type": "code",
      "execution_count": null,
      "metadata": {
        "colab": {
          "base_uri": "https://localhost:8080/"
        },
        "id": "gCDS214hrtgn",
        "outputId": "1be3392f-8bab-4005-8a73-a4c1e74c7b0f"
      },
      "outputs": [
        {
          "name": "stdout",
          "output_type": "stream",
          "text": [
            "144\n",
            "1799.0\n"
          ]
        }
      ],
      "source": [
        "# Discretising every 10 minutes for 24hrs\n",
        "step = int(24*60/10)\n",
        "print(step)\n",
        "mu, sigma = 1000, 0.5\n",
        "pairwise_demand_timewise = np.zeros((cities, cities, step))\n",
        "for i in range(cities):\n",
        "  for j in range(cities):\n",
        "    sum = 0\n",
        "    for k in range(step):\n",
        "      if P_pq[i][j] == 0:\n",
        "        pass;\n",
        "      else:\n",
        "        num = np.random.normal(mu, sigma)\n",
        "        sum += num\n",
        "        pairwise_demand_timewise[i][j][k] = num\n",
        "    if sum == 0:\n",
        "      pass\n",
        "    else:\n",
        "      pairwise_demand_timewise[i][j] *= P_pq[i][j]/sum\n",
        "sum_new = 0\n",
        "for k in range(144):\n",
        "  sum_new += pairwise_demand_timewise[0][1][k]\n",
        "print(sum_new)"
      ],
      "id": "gCDS214hrtgn"
    },
    {
      "cell_type": "markdown",
      "metadata": {
        "id": "J2pzRHtDtzGo"
      },
      "source": [
        "# TIME CONSIDERATION"
      ],
      "id": "J2pzRHtDtzGo"
    },
    {
      "cell_type": "markdown",
      "metadata": {
        "id": "dYVbcJIjuQ3T"
      },
      "source": [
        "## Generating relevant data and files"
      ],
      "id": "dYVbcJIjuQ3T"
    },
    {
      "cell_type": "code",
      "execution_count": null,
      "metadata": {
        "id": "3MTnM-Rru-6t"
      },
      "outputs": [],
      "source": [
        "import numpy as np\n",
        "import pickle\n",
        "import matplotlib.pyplot as plt"
      ],
      "id": "3MTnM-Rru-6t"
    },
    {
      "cell_type": "code",
      "execution_count": null,
      "metadata": {
        "colab": {
          "base_uri": "https://localhost:8080/"
        },
        "id": "UD15zraCt3TK",
        "outputId": "d91cc44e-d563-4467-cca7-2ae13c7ccc3c"
      },
      "outputs": [
        {
          "data": {
            "text/plain": [
              "(60, 18)"
            ]
          },
          "execution_count": 20,
          "metadata": {},
          "output_type": "execute_result"
        }
      ],
      "source": [
        "opmin = 18 * 60\n",
        "dt = 60 # minutes\n",
        "ndt = opmin // dt # number of time steps\n",
        "dt, ndt"
      ],
      "id": "UD15zraCt3TK"
    },
    {
      "cell_type": "code",
      "execution_count": null,
      "metadata": {
        "id": "lDSwgE11t9lZ"
      },
      "outputs": [],
      "source": [
        "def get_demand(npax):\n",
        "  mu = npax / opmin\n",
        "  demand = np.random.normal(mu, 0.1, ndt)\n",
        "  k = np.uint32(demand)\n",
        "  return k"
      ],
      "id": "lDSwgE11t9lZ"
    },
    {
      "cell_type": "code",
      "execution_count": null,
      "metadata": {
        "id": "FmrceLvpt_ev"
      },
      "outputs": [],
      "source": [
        "def people_on_airport(demand):\n",
        "  people_on_airport = [0]\n",
        "  for d in demand:\n",
        "      people_on_airport.append(people_on_airport[-1] + d * dt)\n",
        "\n",
        "  people_on_airport = people_on_airport[1:]\n",
        "  plt.figure()\n",
        "  plt.grid()\n",
        "  plt.plot(np.arange(ndt) * dt, people_on_airport)\n",
        "  plt.title(\"Demand vs time\")\n",
        "  plt.show()"
      ],
      "id": "FmrceLvpt_ev"
    },
    {
      "cell_type": "code",
      "execution_count": null,
      "metadata": {
        "id": "xmPFF5IGuCnW"
      },
      "outputs": [],
      "source": [
        "def get_mdemand(k):\n",
        "  mdemand = {}\n",
        "  for i in range(ndt):\n",
        "      mdemand[i * dt] = k[i]\n",
        "  return mdemand"
      ],
      "id": "xmPFF5IGuCnW"
    },
    {
      "cell_type": "markdown",
      "metadata": {
        "id": "72xkWslsuWEK"
      },
      "source": [
        "# Generating schedule"
      ],
      "id": "72xkWslsuWEK"
    },
    {
      "cell_type": "code",
      "execution_count": null,
      "metadata": {
        "id": "4grlFbwUuM_m"
      },
      "outputs": [],
      "source": [
        "%matplotlib inline\n",
        "import numpy as np\n",
        "import matplotlib.pyplot as plt\n",
        "import networkx as nx\n",
        "import pickle\n",
        "\n",
        "from typing import List, Tuple\n",
        "from numpy.typing import NDArray"
      ],
      "id": "4grlFbwUuM_m"
    },
    {
      "cell_type": "code",
      "execution_count": null,
      "metadata": {
        "id": "I3c8xDoSuhGC"
      },
      "outputs": [],
      "source": [
        "\"\"\"\n",
        "Computes the edge wait for the edge connecting (y, t) to (y + demand[t]*dt, t+dt)\n",
        "\"\"\"\n",
        "def wait_penalty(y: int, t: int, demand: NDArray[np.uint32], K: int, dt: int) -> float:\n",
        "    return K * (y + demand[t] * dt)"
      ],
      "id": "I3c8xDoSuhGC"
    },
    {
      "cell_type": "code",
      "execution_count": null,
      "metadata": {
        "id": "Sqo-PTdguxbh"
      },
      "outputs": [],
      "source": [
        "def create_edge(edge_list: List[Tuple], y: int, t: int, demand: NDArray[np.uint32], penalty_coeff: float, dispatch_cost: float, seats: int, dt: int, ndt: int) -> None:\n",
        "    if (t == dt * ndt) and (y - seats < 0):\n",
        "        return\n",
        "    \n",
        "    if not t >= dt * ndt:\n",
        "        # print((\n",
        "        #     (y, t),\n",
        "        #     (y + demand[t]*dt, t + dt),\n",
        "        #     wait_penalty(y, t, demand, penalty_coeff, dt)\n",
        "        # ))\n",
        "        edge_list.append((\n",
        "            (y, t),\n",
        "            (y + demand[t]*dt, t + dt),\n",
        "            wait_penalty(y, t, demand, penalty_coeff, dt)\n",
        "        ))\n",
        "        create_edge(edge_list, y + demand[t]*dt, t + dt, demand, penalty_coeff, dispatch_cost, seats, dt, ndt)\n",
        "\n",
        "    if y - seats >= 0:\n",
        "        # print((\n",
        "        #     (y, t),\n",
        "        #     (y - seats, t),\n",
        "        #     dispatch_cost\n",
        "        # ))\n",
        "        edge_list.append((\n",
        "            (y, t),\n",
        "            (y - seats, t),\n",
        "            dispatch_cost\n",
        "        ))\n",
        "\n",
        "        create_edge(edge_list, y - seats, t, demand, penalty_coeff, dispatch_cost, seats, dt, ndt)\n",
        "    else:\n",
        "        # print((\n",
        "        #     (y, t),\n",
        "        #     (0, t),\n",
        "        #     dispatch_cost\n",
        "        # ))\n",
        "        edge_list.append((\n",
        "            (y, t),\n",
        "            (0, t),\n",
        "            dispatch_cost\n",
        "        ))\n",
        "        \n",
        "        if not t == dt * ndt:\n",
        "            create_edge(edge_list, 0, t + dt, demand, penalty_coeff, dispatch_cost, seats, dt, ndt)"
      ],
      "id": "Sqo-PTdguxbh"
    },
    {
      "cell_type": "code",
      "execution_count": null,
      "metadata": {
        "id": "DhhRIhXHuzNY"
      },
      "outputs": [],
      "source": [
        "def init(i,j):\n",
        "  source = i\n",
        "  destination = j\n",
        "  k = get_demand(P_pq[i][j])\n",
        "  people_on_airport(k)\n",
        "  mdem = get_mdemand(k)\n",
        "  penalty_coeff = DC_pq[i][j]/(S+20)\n",
        "  seats = S\n",
        "  dispatch_cost = DC_pq[i][j]\n",
        "  wel = []\n",
        "  create_edge(wel, 0, 0, mdem, penalty_coeff, dispatch_cost, seats, dt, ndt-1)\n",
        "  s = set(wel)\n",
        "  s_new = set({})\n",
        "  for i in s:\n",
        "    if i[0][0]==0 and i[1][0]==0 and i[0][1]==i[1][1]:\n",
        "      pass\n",
        "    else:\n",
        "      s_new.add(i)\n",
        "  wel = list(s_new)\n",
        "  DG = nx.DiGraph()\n",
        "  DG.add_weighted_edges_from(wel)\n",
        "  path = nx.dijkstra_path(DG, (0, 0), (0, 1020))\n",
        "  path_edges = list(zip(path,path[1:]))\n",
        "  pos = nx.spring_layout(DG)\n",
        "  plt.figure(3,figsize=(12,12))\n",
        "  plt.title(\"Space Time graph for airport pair \"+stations[source]+\" and \"+stations[destination])\n",
        "  nx.draw_networkx_nodes(DG,pos,nodelist=set(DG.nodes)-set(path),node_size=20, node_color='b')\n",
        "  nx.draw_networkx_edges(DG, pos, edgelist=set(DG.edges)-set(path_edges), edge_color='b', connectionstyle='arc3, rad = 0.9')\n",
        "  nx.draw_networkx_nodes(DG, pos, nodelist=path ,node_size=30, node_color='r')\n",
        "  nx.draw_networkx_edges(DG,pos,edgelist=path_edges,edge_color='r', connectionstyle='arc3, rad = 0.9')\n",
        "  plt.show()\n",
        "  departure_time = []\n",
        "  arrival_time = []\n",
        "  flight_names = []\n",
        "  iter = 0\n",
        "  for l in path:\n",
        "    if l[0]==0 and l[1]==0:\n",
        "      pass\n",
        "    else:\n",
        "      if l[0]==0:\n",
        "        iter = iter+1\n",
        "        departure_time.append((6+(l[1]/60))%24) #stores in 24 hr format, airport starts at 6AM and closes at 12AM\n",
        "        arrival_time.append((6+(l[1]/60)+(math.floor(Tb_pq[source][destination])+(Tb_pq[source][destination]%1)*0.6))%24)\n",
        "        flight_names.append(\"KF\"+str(source)+str(destination)+str(iter))\n",
        "      else:\n",
        "        pass\n",
        "  table = []\n",
        "  for i in range(len(departure_time)):\n",
        "    table_data = []\n",
        "    table_data.append(flight_names[i])\n",
        "    table_data.append(departure_time[i])\n",
        "    table_data.append('%.2f' %arrival_time[i])\n",
        "    table.append(table_data)\n",
        "  headers = [\"Flight Number\", \"Scheduled Departure (in 24hrs format)\", \"Scheduled Arrival (in 24hrs format)\"]\n",
        "  print(\"Flight Schedule for the day\")\n",
        "  print(tabulate(table, headers, tablefmt=\"fancy_grid\"))"
      ],
      "id": "DhhRIhXHuzNY"
    },
    {
      "cell_type": "code",
      "execution_count": null,
      "metadata": {
        "colab": {
          "base_uri": "https://localhost:8080/",
          "height": 1000
        },
        "id": "3SmTKOUMu1u9",
        "outputId": "98c76bb9-1064-4bef-b285-c5fefe116d40"
      },
      "outputs": [
        {
          "data": {
            "image/png": "[encoded data removed]",
            "text/plain": [
              "<Figure size 640x480 with 1 Axes>"
            ]
          },
          "metadata": {},
          "output_type": "display_data"
        },
        {
          "data": {
            "image/png": "[encoded data removed]",
            "text/plain": [
              "<Figure size 1200x1200 with 1 Axes>"
            ]
          },
          "metadata": {},
          "output_type": "display_data"
        },
        {
          "name": "stdout",
          "output_type": "stream",
          "text": [
            "Flight Schedule for the day\n",
            "╒═════════════════╤═════════════════════════════════════════╤═══════════════════════════════════════╕\n",
            "│ Flight Number   │   Scheduled Departure (in 24hrs format) │   Scheduled Arrival (in 24hrs format) │\n",
            "╞═════════════════╪═════════════════════════════════════════╪═══════════════════════════════════════╡\n",
            "│ KF011           │                                       8 │                                 10.17 │\n",
            "├─────────────────┼─────────────────────────────────────────┼───────────────────────────────────────┤\n",
            "│ KF012           │                                      11 │                                 13.17 │\n",
            "├─────────────────┼─────────────────────────────────────────┼───────────────────────────────────────┤\n",
            "│ KF013           │                                      14 │                                 16.17 │\n",
            "├─────────────────┼─────────────────────────────────────────┼───────────────────────────────────────┤\n",
            "│ KF014           │                                      17 │                                 19.17 │\n",
            "├─────────────────┼─────────────────────────────────────────┼───────────────────────────────────────┤\n",
            "│ KF015           │                                      20 │                                 22.17 │\n",
            "├─────────────────┼─────────────────────────────────────────┼───────────────────────────────────────┤\n",
            "│ KF016           │                                      23 │                                  1.17 │\n",
            "╘═════════════════╧═════════════════════════════════════════╧═══════════════════════════════════════╛\n"
          ]
        }
      ],
      "source": [
        "init(0,1)"
      ],
      "id": "3SmTKOUMu1u9"
    },
    {
      "cell_type": "markdown",
      "metadata": {
        "id": "hThJ7JxuAnjn"
      },
      "source": [
        "# Visualizing the results"
      ],
      "id": "hThJ7JxuAnjn"
    },
    {
      "cell_type": "code",
      "execution_count": null,
      "metadata": {
        "colab": {
          "base_uri": "https://localhost:8080/"
        },
        "id": "3vje6bKSAp1M",
        "outputId": "41a37eba-e2bf-4048-f7e4-9209d303b4ee"
      },
      "outputs": [
        {
          "name": "stdout",
          "output_type": "stream",
          "text": [
            "Looking in indexes: https://pypi.org/simple, https://us-python.pkg.dev/colab-wheels/public/simple/\n",
            "Requirement already satisfied: ipywidgets in /usr/local/lib/python3.10/dist-packages (7.7.1)\n",
            "Requirement already satisfied: ipykernel>=4.5.1 in /usr/local/lib/python3.10/dist-packages (from ipywidgets) (5.5.6)\n",
            "Requirement already satisfied: widgetsnbextension~=3.6.0 in /usr/local/lib/python3.10/dist-packages (from ipywidgets) (3.6.4)\n",
            "Requirement already satisfied: jupyterlab-widgets>=1.0.0 in /usr/local/lib/python3.10/dist-packages (from ipywidgets) (3.0.7)\n",
            "Requirement already satisfied: traitlets>=4.3.1 in /usr/local/lib/python3.10/dist-packages (from ipywidgets) (5.7.1)\n",
            "Requirement already satisfied: ipython>=4.0.0 in /usr/local/lib/python3.10/dist-packages (from ipywidgets) (7.34.0)\n",
            "Requirement already satisfied: ipython-genutils~=0.2.0 in /usr/local/lib/python3.10/dist-packages (from ipywidgets) (0.2.0)\n",
            "Requirement already satisfied: tornado>=4.2 in /usr/local/lib/python3.10/dist-packages (from ipykernel>=4.5.1->ipywidgets) (6.2)\n",
            "Requirement already satisfied: jupyter-client in /usr/local/lib/python3.10/dist-packages (from ipykernel>=4.5.1->ipywidgets) (6.1.12)\n",
            "Requirement already satisfied: prompt-toolkit!=3.0.0,!=3.0.1,<3.1.0,>=2.0.0 in /usr/local/lib/python3.10/dist-packages (from ipython>=4.0.0->ipywidgets) (3.0.38)\n",
            "Requirement already satisfied: matplotlib-inline in /usr/local/lib/python3.10/dist-packages (from ipython>=4.0.0->ipywidgets) (0.1.6)\n",
            "Requirement already satisfied: pickleshare in /usr/local/lib/python3.10/dist-packages (from ipython>=4.0.0->ipywidgets) (0.7.5)\n",
            "Requirement already satisfied: pexpect>4.3 in /usr/local/lib/python3.10/dist-packages (from ipython>=4.0.0->ipywidgets) (4.8.0)\n",
            "Requirement already satisfied: setuptools>=18.5 in /usr/local/lib/python3.10/dist-packages (from ipython>=4.0.0->ipywidgets) (67.7.2)\n",
            "Requirement already satisfied: pygments in /usr/local/lib/python3.10/dist-packages (from ipython>=4.0.0->ipywidgets) (2.14.0)\n",
            "Requirement already satisfied: decorator in /usr/local/lib/python3.10/dist-packages (from ipython>=4.0.0->ipywidgets) (4.4.2)\n",
            "Requirement already satisfied: backcall in /usr/local/lib/python3.10/dist-packages (from ipython>=4.0.0->ipywidgets) (0.2.0)\n",
            "Collecting jedi>=0.16\n",
            "  Downloading jedi-0.18.2-py2.py3-none-any.whl (1.6 MB)\n",
            "\u001b[2K     \u001b[90m━━━━━━━━━━━━━━━━━━━━━━━━━━━━━━━━━━━━━━━━\u001b[0m \u001b[32m1.6/1.6 MB\u001b[0m \u001b[31m46.5 MB/s\u001b[0m eta \u001b[36m0:00:00\u001b[0m\n",
            "\u001b[?25hRequirement already satisfied: notebook>=4.4.1 in /usr/local/lib/python3.10/dist-packages (from widgetsnbextension~=3.6.0->ipywidgets) (6.4.8)\n",
            "Requirement already satisfied: parso<0.9.0,>=0.8.0 in /usr/local/lib/python3.10/dist-packages (from jedi>=0.16->ipython>=4.0.0->ipywidgets) (0.8.3)\n",
            "Requirement already satisfied: prometheus-client in /usr/local/lib/python3.10/dist-packages (from notebook>=4.4.1->widgetsnbextension~=3.6.0->ipywidgets) (0.16.0)\n",
            "Requirement already satisfied: nbconvert in /usr/local/lib/python3.10/dist-packages (from notebook>=4.4.1->widgetsnbextension~=3.6.0->ipywidgets) (6.5.4)\n",
            "Requirement already satisfied: jinja2 in /usr/local/lib/python3.10/dist-packages (from notebook>=4.4.1->widgetsnbextension~=3.6.0->ipywidgets) (3.1.2)\n",
            "Requirement already satisfied: argon2-cffi in /usr/local/lib/python3.10/dist-packages (from notebook>=4.4.1->widgetsnbextension~=3.6.0->ipywidgets) (21.3.0)\n",
            "Requirement already satisfied: nest-asyncio>=1.5 in /usr/local/lib/python3.10/dist-packages (from notebook>=4.4.1->widgetsnbextension~=3.6.0->ipywidgets) (1.5.6)\n",
            "Requirement already satisfied: pyzmq>=17 in /usr/local/lib/python3.10/dist-packages (from notebook>=4.4.1->widgetsnbextension~=3.6.0->ipywidgets) (23.2.1)\n",
            "Requirement already satisfied: jupyter-core>=4.6.1 in /usr/local/lib/python3.10/dist-packages (from notebook>=4.4.1->widgetsnbextension~=3.6.0->ipywidgets) (5.3.0)\n",
            "Requirement already satisfied: terminado>=0.8.3 in /usr/local/lib/python3.10/dist-packages (from notebook>=4.4.1->widgetsnbextension~=3.6.0->ipywidgets) (0.17.1)\n",
            "Requirement already satisfied: Send2Trash>=1.8.0 in /usr/local/lib/python3.10/dist-packages (from notebook>=4.4.1->widgetsnbextension~=3.6.0->ipywidgets) (1.8.0)\n",
            "Requirement already satisfied: nbformat in /usr/local/lib/python3.10/dist-packages (from notebook>=4.4.1->widgetsnbextension~=3.6.0->ipywidgets) (5.8.0)\n",
            "Requirement already satisfied: python-dateutil>=2.1 in /usr/local/lib/python3.10/dist-packages (from jupyter-client->ipykernel>=4.5.1->ipywidgets) (2.8.2)\n",
            "Requirement already satisfied: ptyprocess>=0.5 in /usr/local/lib/python3.10/dist-packages (from pexpect>4.3->ipython>=4.0.0->ipywidgets) (0.7.0)\n",
            "Requirement already satisfied: wcwidth in /usr/local/lib/python3.10/dist-packages (from prompt-toolkit!=3.0.0,!=3.0.1,<3.1.0,>=2.0.0->ipython>=4.0.0->ipywidgets) (0.2.6)\n",
            "Requirement already satisfied: platformdirs>=2.5 in /usr/local/lib/python3.10/dist-packages (from jupyter-core>=4.6.1->notebook>=4.4.1->widgetsnbextension~=3.6.0->ipywidgets) (3.3.0)\n",
            "Requirement already satisfied: six>=1.5 in /usr/local/lib/python3.10/dist-packages (from python-dateutil>=2.1->jupyter-client->ipykernel>=4.5.1->ipywidgets) (1.16.0)\n",
            "Requirement already satisfied: argon2-cffi-bindings in /usr/local/lib/python3.10/dist-packages (from argon2-cffi->notebook>=4.4.1->widgetsnbextension~=3.6.0->ipywidgets) (21.2.0)\n",
            "Requirement already satisfied: MarkupSafe>=2.0 in /usr/local/lib/python3.10/dist-packages (from jinja2->notebook>=4.4.1->widgetsnbextension~=3.6.0->ipywidgets) (2.1.2)\n",
            "Requirement already satisfied: bleach in /usr/local/lib/python3.10/dist-packages (from nbconvert->notebook>=4.4.1->widgetsnbextension~=3.6.0->ipywidgets) (6.0.0)\n",
            "Requirement already satisfied: mistune<2,>=0.8.1 in /usr/local/lib/python3.10/dist-packages (from nbconvert->notebook>=4.4.1->widgetsnbextension~=3.6.0->ipywidgets) (0.8.4)\n",
            "Requirement already satisfied: lxml in /usr/local/lib/python3.10/dist-packages (from nbconvert->notebook>=4.4.1->widgetsnbextension~=3.6.0->ipywidgets) (4.9.2)\n",
            "Requirement already satisfied: beautifulsoup4 in /usr/local/lib/python3.10/dist-packages (from nbconvert->notebook>=4.4.1->widgetsnbextension~=3.6.0->ipywidgets) (4.11.2)\n",
            "Requirement already satisfied: pandocfilters>=1.4.1 in /usr/local/lib/python3.10/dist-packages (from nbconvert->notebook>=4.4.1->widgetsnbextension~=3.6.0->ipywidgets) (1.5.0)\n",
            "Requirement already satisfied: entrypoints>=0.2.2 in /usr/local/lib/python3.10/dist-packages (from nbconvert->notebook>=4.4.1->widgetsnbextension~=3.6.0->ipywidgets) (0.4)\n",
            "Requirement already satisfied: jupyterlab-pygments in /usr/local/lib/python3.10/dist-packages (from nbconvert->notebook>=4.4.1->widgetsnbextension~=3.6.0->ipywidgets) (0.2.2)\n",
            "Requirement already satisfied: tinycss2 in /usr/local/lib/python3.10/dist-packages (from nbconvert->notebook>=4.4.1->widgetsnbextension~=3.6.0->ipywidgets) (1.2.1)\n",
            "Requirement already satisfied: defusedxml in /usr/local/lib/python3.10/dist-packages (from nbconvert->notebook>=4.4.1->widgetsnbextension~=3.6.0->ipywidgets) (0.7.1)\n",
            "Requirement already satisfied: packaging in /usr/local/lib/python3.10/dist-packages (from nbconvert->notebook>=4.4.1->widgetsnbextension~=3.6.0->ipywidgets) (23.1)\n",
            "Requirement already satisfied: nbclient>=0.5.0 in /usr/local/lib/python3.10/dist-packages (from nbconvert->notebook>=4.4.1->widgetsnbextension~=3.6.0->ipywidgets) (0.7.4)\n",
            "Requirement already satisfied: jsonschema>=2.6 in /usr/local/lib/python3.10/dist-packages (from nbformat->notebook>=4.4.1->widgetsnbextension~=3.6.0->ipywidgets) (4.3.3)\n",
            "Requirement already satisfied: fastjsonschema in /usr/local/lib/python3.10/dist-packages (from nbformat->notebook>=4.4.1->widgetsnbextension~=3.6.0->ipywidgets) (2.16.3)\n",
            "Requirement already satisfied: attrs>=17.4.0 in /usr/local/lib/python3.10/dist-packages (from jsonschema>=2.6->nbformat->notebook>=4.4.1->widgetsnbextension~=3.6.0->ipywidgets) (23.1.0)\n",
            "Requirement already satisfied: pyrsistent!=0.17.0,!=0.17.1,!=0.17.2,>=0.14.0 in /usr/local/lib/python3.10/dist-packages (from jsonschema>=2.6->nbformat->notebook>=4.4.1->widgetsnbextension~=3.6.0->ipywidgets) (0.19.3)\n",
            "Requirement already satisfied: cffi>=1.0.1 in /usr/local/lib/python3.10/dist-packages (from argon2-cffi-bindings->argon2-cffi->notebook>=4.4.1->widgetsnbextension~=3.6.0->ipywidgets) (1.15.1)\n",
            "Requirement already satisfied: soupsieve>1.2 in /usr/local/lib/python3.10/dist-packages (from beautifulsoup4->nbconvert->notebook>=4.4.1->widgetsnbextension~=3.6.0->ipywidgets) (2.4.1)\n",
            "Requirement already satisfied: webencodings in /usr/local/lib/python3.10/dist-packages (from bleach->nbconvert->notebook>=4.4.1->widgetsnbextension~=3.6.0->ipywidgets) (0.5.1)\n",
            "Requirement already satisfied: pycparser in /usr/local/lib/python3.10/dist-packages (from cffi>=1.0.1->argon2-cffi-bindings->argon2-cffi->notebook>=4.4.1->widgetsnbextension~=3.6.0->ipywidgets) (2.21)\n",
            "Installing collected packages: jedi\n",
            "Successfully installed jedi-0.18.2\n"
          ]
        }
      ],
      "source": [
        "!pip install ipywidgets"
      ],
      "id": "3vje6bKSAp1M"
    },
    {
      "cell_type": "code",
      "execution_count": null,
      "metadata": {
        "colab": {
          "background_save": true,
          "base_uri": "https://localhost:8080/",
          "height": 1000,
          "referenced_widgets": [
            "9585f4d7ebda4daaba93e2bc0dc56cc4",
            "6f699b977f9d465785c44498040c4b41",
            "69cb32f1f83a4348bb325a027ca31ab5"
          ]
        },
        "id": "L85X9nUPBSO4",
        "outputId": "456ee823-adbd-4f47-a000-a63da31464fe"
      },
      "outputs": [
        {
          "name": "stdout",
          "output_type": "stream",
          "text": [
            "\n",
            "----------------------------------------------------------------------------------------------------------\n",
            "AIRPORT WISE AIRLINE STATISTICS\n",
            "----------------------------------------------------------------------------------------------------------\n",
            "Choose an airport\n"
          ]
        },
        {
          "data": {
            "application/vnd.jupyter.widget-view+json": {
              "model_id": "9585f4d7ebda4daaba93e2bc0dc56cc4",
              "version_major": 2,
              "version_minor": 0
            },
            "text/plain": [
              "Dropdown(options=('All', 'Mumbai', 'Delhi', 'Lucknow', 'Hyderabad', 'Ahmedabad', 'Banglore', 'Pune', 'Kolkata'…"
            ]
          },
          "metadata": {},
          "output_type": "display_data"
        },
        {
          "name": "stdout",
          "output_type": "stream",
          "text": [
            "\n",
            "----------------------------------------------------------------------------------------------------------\n",
            "FLIGHT SCHEDULING FOR PAIR OF AIRPORTS\n",
            "----------------------------------------------------------------------------------------------------------\n",
            "Choose source airport\n"
          ]
        },
        {
          "data": {
            "application/vnd.jupyter.widget-view+json": {
              "model_id": "6f699b977f9d465785c44498040c4b41",
              "version_major": 2,
              "version_minor": 0
            },
            "text/plain": [
              "Dropdown(options=('Mumbai', 'Delhi', 'Lucknow', 'Hyderabad', 'Ahmedabad', 'Banglore', 'Pune', 'Kolkata', 'Chen…"
            ]
          },
          "metadata": {},
          "output_type": "display_data"
        },
        {
          "name": "stdout",
          "output_type": "stream",
          "text": [
            "Choose destination airport\n"
          ]
        },
        {
          "data": {
            "application/vnd.jupyter.widget-view+json": {
              "model_id": "69cb32f1f83a4348bb325a027ca31ab5",
              "version_major": 2,
              "version_minor": 0
            },
            "text/plain": [
              "Dropdown(options=('Mumbai', 'Delhi', 'Lucknow', 'Hyderabad', 'Ahmedabad', 'Banglore', 'Pune', 'Kolkata', 'Chen…"
            ]
          },
          "metadata": {},
          "output_type": "display_data"
        },
        {
          "name": "stdout",
          "output_type": "stream",
          "text": [
            "\n",
            "----------------------------------------------------------------------------------------------------------\n",
            "OUTPUT\n",
            "----------------------------------------------------------------------------------------------------------\n",
            "\n"
          ]
        }
      ],
      "source": [
        "import ipywidgets as widgets\n",
        "dropdown_src = widgets.Dropdown(options = stations)\n",
        "dropdown_dst = widgets.Dropdown(options = stations)\n",
        "airports = [\"All\"]\n",
        "for i in range(len(stations)):\n",
        "  airports.append(stations[i])\n",
        "dropdown_station = widgets.Dropdown(options = airports)\n",
        "src=0\n",
        "dst=0\n",
        "def src_station_handler(change):\n",
        "  for i in range(len(stations)):\n",
        "    if stations[i] == change.new:\n",
        "      src = i\n",
        "  init(src, dst)\n",
        "def dst_station_handler(change):\n",
        "  for i in range(len(stations)):\n",
        "    if stations[i] == change.new:\n",
        "      dst = i\n",
        "  init(src, dst)\n",
        "def station_handler(change):\n",
        "  if change.new == \"All\":\n",
        "    get_all_stat()\n",
        "  else:\n",
        "    for i in range(len(stations)):\n",
        "      if stations[i] == change.new:\n",
        "        src = i\n",
        "    get_airport_stat(src)\n",
        "dropdown_src.observe(src_station_handler, names='value')\n",
        "dropdown_dst.observe(dst_station_handler, names='value')\n",
        "dropdown_station.observe(station_handler, names=\"value\")\n",
        "print(\"\\n----------------------------------------------------------------------------------------------------------\")\n",
        "print(\"AIRPORT WISE AIRLINE STATISTICS\")\n",
        "print(\"----------------------------------------------------------------------------------------------------------\")\n",
        "print(\"Choose an airport\")\n",
        "display(dropdown_station)\n",
        "print(\"\\n----------------------------------------------------------------------------------------------------------\")\n",
        "print(\"FLIGHT SCHEDULING FOR PAIR OF AIRPORTS\")\n",
        "print(\"----------------------------------------------------------------------------------------------------------\")\n",
        "print(\"Choose source airport\")\n",
        "display(dropdown_src)\n",
        "print(\"Choose destination airport\")\n",
        "display(dropdown_dst)\n",
        "print(\"\\n----------------------------------------------------------------------------------------------------------\")\n",
        "print(\"OUTPUT\")\n",
        "print(\"----------------------------------------------------------------------------------------------------------\\n\")"
      ],
      "id": "L85X9nUPBSO4"
    },
    {
      "cell_type": "code",
      "execution_count": null,
      "metadata": {
        "id": "ElubYVp-HKja"
      },
      "outputs": [],
      "source": [],
      "id": "ElubYVp-HKja"
    }
  ],
  "metadata": {
    "colab": {
      "provenance": []
    },
    "kernelspec": {
      "display_name": "Python 3 (ipykernel)",
      "language": "python",
      "name": "python3"
    },
    "language_info": {
      "codemirror_mode": {
        "name": "ipython",
        "version": 3
      },
      "file_extension": ".py",
      "mimetype": "text/x-python",
      "name": "python",
      "nbconvert_exporter": "python",
      "pygments_lexer": "ipython3",
      "version": "3.10.10"
    },
    "widgets": {
      "application/vnd.jupyter.widget-state+json": {}
    }
  },
  "nbformat": 4,
  "nbformat_minor": 5
}